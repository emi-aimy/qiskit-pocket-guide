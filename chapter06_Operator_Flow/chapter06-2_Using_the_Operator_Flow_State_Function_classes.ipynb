{
 "cells": [
  {
   "cell_type": "markdown",
   "id": "e9c34909",
   "metadata": {},
   "source": [
    "# Chapter 6: Operator Flow"
   ]
  },
  {
   "cell_type": "markdown",
   "id": "b0482103",
   "metadata": {
    "ExecuteTime": {
     "end_time": "2022-05-05T13:46:50.178490Z",
     "start_time": "2022-05-05T13:46:50.167932Z"
    }
   },
   "source": [
    "## Using the Operator Flow State Function classes"
   ]
  },
  {
   "cell_type": "markdown",
   "id": "263543ab",
   "metadata": {},
   "source": [
    "Page 121-122:"
   ]
  },
  {
   "cell_type": "code",
   "execution_count": 1,
   "id": "065f884d",
   "metadata": {
    "ExecuteTime": {
     "end_time": "2022-05-05T13:16:29.175235Z",
     "start_time": "2022-05-05T13:16:28.556041Z"
    }
   },
   "outputs": [
    {
     "name": "stdout",
     "output_type": "stream",
     "text": [
      "DictStateFn({'10100': 1})\n"
     ]
    }
   ],
   "source": [
    "from qiskit.opflow.state_fns import StateFn\n",
    "\n",
    "statefn = StateFn('10100')\n",
    "print(statefn)"
   ]
  },
  {
   "cell_type": "markdown",
   "id": "eae8856b-2034-4dd4-80fc-f8022f92a284",
   "metadata": {},
   "source": [
    "Page 122:"
   ]
  },
  {
   "cell_type": "code",
   "execution_count": 2,
   "id": "5a784c31-d094-4b82-b6ed-c94d45e656a6",
   "metadata": {},
   "outputs": [
    {
     "name": "stdout",
     "output_type": "stream",
     "text": [
      "CircuitStateFn(\n",
      "     ┌───┐          \n",
      "q_0: ┤ H ├──■───────\n",
      "     └───┘┌─┴─┐     \n",
      "q_1: ─────┤ X ├──■──\n",
      "          └───┘┌─┴─┐\n",
      "q_2: ──────────┤ X ├\n",
      "               └───┘\n",
      ")\n"
     ]
    }
   ],
   "source": [
    "from qiskit import QuantumCircuit\n",
    "\n",
    "qc = QuantumCircuit(3)\n",
    "qc.h(0)\n",
    "qc.cx(0, 1)\n",
    "qc.cx(1, 2)\n",
    "\n",
    "statefn = StateFn(qc)\n",
    "print(statefn)"
   ]
  },
  {
   "cell_type": "markdown",
   "id": "1d4c9e82-9f28-4ba8-9167-a2d46bc6ba3a",
   "metadata": {},
   "source": [
    "Page 123:"
   ]
  },
  {
   "cell_type": "code",
   "execution_count": 3,
   "id": "88d0c709-b232-480c-b059-dabc151e4cdf",
   "metadata": {},
   "outputs": [
    {
     "name": "stdout",
     "output_type": "stream",
     "text": [
      "VectorStateFn(Statevector([0.70710678+0.j, 0.        +0.j, 0.        +0.j,\n",
      "             0.70710678+0.j],\n",
      "            dims=(2, 2)))\n"
     ]
    }
   ],
   "source": [
    "import numpy as np\n",
    "\n",
    "statefn = StateFn([1, 0, 0, 1] / np.sqrt(2))\n",
    "print(statefn)"
   ]
  },
  {
   "cell_type": "markdown",
   "id": "3359c717-bef3-4861-8bf4-be7c5c9c31b2",
   "metadata": {},
   "source": [
    "Page 123-124:"
   ]
  },
  {
   "cell_type": "code",
   "execution_count": 4,
   "id": "a1df99e4-31cb-494f-ba3b-40e6ebd99562",
   "metadata": {},
   "outputs": [
    {
     "name": "stdout",
     "output_type": "stream",
     "text": [
      "statefn_a: DictMeasurement({'100': 1}) True\n",
      "statefn_b: DictMeasurement({'100': 1}) True\n"
     ]
    }
   ],
   "source": [
    "from qiskit.opflow.state_fns import StateFn\n",
    "from qiskit.opflow import One, Zero\n",
    " \n",
    "statefn_a = StateFn('100', is_measurement=True)\n",
    "print('statefn_a:', statefn_a, statefn_a.is_measurement)\n",
    "\n",
    "statefn_b = ~(One ^ Zero ^ Zero)\n",
    "print('statefn_b:', statefn_b, statefn_b.is_measurement)"
   ]
  }
 ],
 "metadata": {
  "kernelspec": {
   "display_name": "Qiskit v0.35.0 (ipykernel)",
   "language": "python",
   "name": "python3"
  },
  "language_info": {
   "codemirror_mode": {
    "name": "ipython",
    "version": 3
   },
   "file_extension": ".py",
   "mimetype": "text/x-python",
   "name": "python",
   "nbconvert_exporter": "python",
   "pygments_lexer": "ipython3",
   "version": "3.8.13"
  },
  "widgets": {
   "application/vnd.jupyter.widget-state+json": {
    "state": {},
    "version_major": 2,
    "version_minor": 0
   }
  }
 },
 "nbformat": 4,
 "nbformat_minor": 5
}
