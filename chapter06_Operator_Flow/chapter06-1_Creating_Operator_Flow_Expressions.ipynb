{
 "cells": [
  {
   "cell_type": "markdown",
   "id": "e9c34909",
   "metadata": {},
   "source": [
    "# Chapter 6: Operator Flow"
   ]
  },
  {
   "cell_type": "markdown",
   "id": "b0482103",
   "metadata": {
    "ExecuteTime": {
     "end_time": "2022-05-05T13:46:50.178490Z",
     "start_time": "2022-05-05T13:46:50.167932Z"
    }
   },
   "source": [
    "## Creating Operator Flow Expressions"
   ]
  },
  {
   "cell_type": "markdown",
   "id": "263543ab",
   "metadata": {},
   "source": [
    "Page 119a:"
   ]
  },
  {
   "cell_type": "code",
   "execution_count": 1,
   "id": "065f884d",
   "metadata": {
    "ExecuteTime": {
     "end_time": "2022-05-05T13:16:29.175235Z",
     "start_time": "2022-05-05T13:16:28.556041Z"
    }
   },
   "outputs": [
    {
     "name": "stdout",
     "output_type": "stream",
     "text": [
      "DictStateFn({'10100': 1})\n"
     ]
    }
   ],
   "source": [
    "from qiskit.opflow import Zero, One\n",
    "\n",
    "state = One ^ Zero ^ One ^ Zero ^ Zero\n",
    "print(state)"
   ]
  },
  {
   "cell_type": "markdown",
   "id": "eae8856b-2034-4dd4-80fc-f8022f92a284",
   "metadata": {},
   "source": [
    "Page 119b:"
   ]
  },
  {
   "cell_type": "code",
   "execution_count": 2,
   "id": "5a784c31-d094-4b82-b6ed-c94d45e656a6",
   "metadata": {},
   "outputs": [
    {
     "name": "stdout",
     "output_type": "stream",
     "text": [
      "-1.0 * XZ\n"
     ]
    }
   ],
   "source": [
    "from qiskit.opflow import X, Z\n",
    "\n",
    "pauli_piXZ = -(X ^ Z)\n",
    "print(pauli_piXZ)"
   ]
  },
  {
   "cell_type": "markdown",
   "id": "1d4c9e82-9f28-4ba8-9167-a2d46bc6ba3a",
   "metadata": {},
   "source": [
    "Page 119c:"
   ]
  },
  {
   "cell_type": "code",
   "execution_count": 3,
   "id": "88d0c709-b232-480c-b059-dabc151e4cdf",
   "metadata": {},
   "outputs": [
    {
     "name": "stdout",
     "output_type": "stream",
     "text": [
      "[[-0.+0.j -0.+0.j -1.+0.j -0.+0.j]\n",
      " [-0.+0.j -0.+0.j -0.+0.j  1.-0.j]\n",
      " [-1.+0.j -0.+0.j -0.+0.j -0.+0.j]\n",
      " [-0.+0.j  1.-0.j -0.+0.j -0.+0.j]]\n"
     ]
    }
   ],
   "source": [
    "print(pauli_piXZ.to_matrix())"
   ]
  },
  {
   "cell_type": "markdown",
   "id": "3359c717-bef3-4861-8bf4-be7c5c9c31b2",
   "metadata": {},
   "source": [
    "Page 120a:"
   ]
  },
  {
   "cell_type": "code",
   "execution_count": 4,
   "id": "a1df99e4-31cb-494f-ba3b-40e6ebd99562",
   "metadata": {},
   "outputs": [
    {
     "name": "stdout",
     "output_type": "stream",
     "text": [
      "     ┌───┐          \n",
      "q_0: ┤ H ├──■───────\n",
      "     └───┘┌─┴─┐     \n",
      "q_1: ─────┤ X ├──■──\n",
      "          └───┘┌─┴─┐\n",
      "q_2: ──────────┤ X ├\n",
      "               └───┘\n"
     ]
    }
   ],
   "source": [
    "from qiskit.opflow import I, X, H, CX\n",
    "\n",
    "op = (CX ^ I) @ (I ^ CX) @ (I ^ I ^ H)\n",
    "print(op)"
   ]
  },
  {
   "cell_type": "markdown",
   "id": "488af704-c50c-4a52-8efe-704e629a2df0",
   "metadata": {},
   "source": [
    "Page 120b:"
   ]
  },
  {
   "cell_type": "code",
   "execution_count": 5,
   "id": "b065e3b7-a57f-4c16-a87b-5d103480f9ae",
   "metadata": {},
   "outputs": [
    {
     "name": "stdout",
     "output_type": "stream",
     "text": [
      "{'000': 503, '111': 497}\n"
     ]
    }
   ],
   "source": [
    "from qiskit.quantum_info import Statevector\n",
    "\n",
    "qc = op.to_circuit()\n",
    "sv = Statevector(qc)\n",
    "print(sv.sample_counts(1000))"
   ]
  }
 ],
 "metadata": {
  "kernelspec": {
   "display_name": "Qiskit v0.35.0 (ipykernel)",
   "language": "python",
   "name": "python3"
  },
  "language_info": {
   "codemirror_mode": {
    "name": "ipython",
    "version": 3
   },
   "file_extension": ".py",
   "mimetype": "text/x-python",
   "name": "python",
   "nbconvert_exporter": "python",
   "pygments_lexer": "ipython3",
   "version": "3.8.13"
  },
  "widgets": {
   "application/vnd.jupyter.widget-state+json": {
    "state": {},
    "version_major": 2,
    "version_minor": 0
   }
  }
 },
 "nbformat": 4,
 "nbformat_minor": 5
}
