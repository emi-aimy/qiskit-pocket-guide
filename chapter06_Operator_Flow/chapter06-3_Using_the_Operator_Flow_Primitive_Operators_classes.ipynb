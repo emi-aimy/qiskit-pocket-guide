{
 "cells": [
  {
   "cell_type": "markdown",
   "id": "e9c34909",
   "metadata": {},
   "source": [
    "# Chapter 6: Operator Flow"
   ]
  },
  {
   "cell_type": "markdown",
   "id": "b0482103",
   "metadata": {
    "ExecuteTime": {
     "end_time": "2022-05-05T13:46:50.178490Z",
     "start_time": "2022-05-05T13:46:50.167932Z"
    }
   },
   "source": [
    "## Using the Operator Flow Primitive Operators classes"
   ]
  },
  {
   "cell_type": "markdown",
   "id": "263543ab",
   "metadata": {},
   "source": [
    "Page 126:"
   ]
  },
  {
   "cell_type": "code",
   "execution_count": 1,
   "id": "065f884d",
   "metadata": {
    "ExecuteTime": {
     "end_time": "2022-05-05T13:16:29.175235Z",
     "start_time": "2022-05-05T13:16:28.556041Z"
    }
   },
   "outputs": [
    {
     "name": "stdout",
     "output_type": "stream",
     "text": [
      "-XZ\n",
      "<class 'qiskit.opflow.primitive_ops.pauli_op.PauliOp'>\n"
     ]
    }
   ],
   "source": [
    "from qiskit.opflow.primitive_ops import PrimitiveOp\n",
    "from qiskit.quantum_info import Pauli\n",
    "\n",
    "primop_piXZ = PrimitiveOp(Pauli('-XZ'))\n",
    "print(primop_piXZ)\n",
    "print(type(primop_piXZ))"
   ]
  },
  {
   "cell_type": "markdown",
   "id": "eae8856b-2034-4dd4-80fc-f8022f92a284",
   "metadata": {},
   "source": [
    "Page 127a:"
   ]
  },
  {
   "cell_type": "code",
   "execution_count": 2,
   "id": "5a784c31-d094-4b82-b6ed-c94d45e656a6",
   "metadata": {},
   "outputs": [
    {
     "name": "stdout",
     "output_type": "stream",
     "text": [
      "<class 'qiskit.opflow.primitive_ops.pauli_op.PauliOp'>\n",
      "True\n"
     ]
    }
   ],
   "source": [
    "from qiskit.opflow import X, Z\n",
    "\n",
    "pauli_piXZ = -(X ^ Z)\n",
    "print(type(pauli_piXZ))\n",
    "print(primop_piXZ.primitive\n",
    "      .equiv(pauli_piXZ.primitive))\n"
   ]
  },
  {
   "cell_type": "markdown",
   "id": "1d4c9e82-9f28-4ba8-9167-a2d46bc6ba3a",
   "metadata": {},
   "source": [
    "Page 127b:"
   ]
  },
  {
   "cell_type": "code",
   "execution_count": 3,
   "id": "88d0c709-b232-480c-b059-dabc151e4cdf",
   "metadata": {},
   "outputs": [
    {
     "name": "stdout",
     "output_type": "stream",
     "text": [
      "     ┌───┐\n",
      "q_0: ┤ H ├\n",
      "     ├───┤\n",
      "q_1: ┤ H ├\n",
      "     ├───┤\n",
      "q_2: ┤ H ├\n",
      "     └───┘\n",
      "<class 'qiskit.opflow.primitive_ops.circuit_op.CircuitOp'>\n"
     ]
    }
   ],
   "source": [
    "from qiskit import QuantumCircuit\n",
    "\n",
    "qc = QuantumCircuit(3)\n",
    "qc.h([0,1,2])\n",
    "\n",
    "h_primop = PrimitiveOp(qc)\n",
    "print(h_primop)\n",
    "print(type(h_primop))"
   ]
  },
  {
   "cell_type": "markdown",
   "id": "3359c717-bef3-4861-8bf4-be7c5c9c31b2",
   "metadata": {},
   "source": [
    "Page 128:"
   ]
  },
  {
   "cell_type": "code",
   "execution_count": 4,
   "id": "a1df99e4-31cb-494f-ba3b-40e6ebd99562",
   "metadata": {},
   "outputs": [
    {
     "name": "stdout",
     "output_type": "stream",
     "text": [
      "     ┌───┐\n",
      "q_0: ┤ H ├\n",
      "     ├───┤\n",
      "q_1: ┤ H ├\n",
      "     ├───┤\n",
      "q_2: ┤ H ├\n",
      "     └───┘\n",
      "<class 'qiskit.opflow.primitive_ops.circuit_op.CircuitOp'>\n"
     ]
    }
   ],
   "source": [
    "from qiskit.opflow import H\n",
    "\n",
    "hgates = H^3\n",
    "print(hgates)\n",
    "print(type(hgates))"
   ]
  }
 ],
 "metadata": {
  "kernelspec": {
   "display_name": "Qiskit v0.35.0 (ipykernel)",
   "language": "python",
   "name": "python3"
  },
  "language_info": {
   "codemirror_mode": {
    "name": "ipython",
    "version": 3
   },
   "file_extension": ".py",
   "mimetype": "text/x-python",
   "name": "python",
   "nbconvert_exporter": "python",
   "pygments_lexer": "ipython3",
   "version": "3.8.13"
  },
  "widgets": {
   "application/vnd.jupyter.widget-state+json": {
    "state": {},
    "version_major": 2,
    "version_minor": 0
   }
  }
 },
 "nbformat": 4,
 "nbformat_minor": 5
}
