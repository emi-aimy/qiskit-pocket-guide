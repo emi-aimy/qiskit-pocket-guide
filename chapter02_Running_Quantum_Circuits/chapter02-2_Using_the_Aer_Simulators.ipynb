{
 "cells": [
  {
   "cell_type": "markdown",
   "id": "e9c34909",
   "metadata": {},
   "source": [
    "# Chapter 2: Running Quantum Circuits"
   ]
  },
  {
   "cell_type": "markdown",
   "id": "b0482103",
   "metadata": {
    "ExecuteTime": {
     "end_time": "2022-05-05T13:46:50.178490Z",
     "start_time": "2022-05-05T13:46:50.167932Z"
    }
   },
   "source": [
    "## Using the Aer Simulators"
   ]
  },
  {
   "cell_type": "markdown",
   "id": "89d712db",
   "metadata": {},
   "source": [
    "Page 51"
   ]
  },
  {
   "cell_type": "code",
   "execution_count": 1,
   "id": "2dc0adcd",
   "metadata": {
    "ExecuteTime": {
     "end_time": "2022-05-05T13:30:46.826122Z",
     "start_time": "2022-05-05T13:30:46.374697Z"
    }
   },
   "outputs": [
    {
     "name": "stdout",
     "output_type": "stream",
     "text": [
      "[AerSimulator('aer_simulator'), AerSimulator('aer_simulator_statevector'), AerSimulator('aer_simulator_density_matrix'), AerSimulator('aer_simulator_stabilizer'), AerSimulator('aer_simulator_matrix_product_state'), AerSimulator('aer_simulator_extended_stabilizer'), AerSimulator('aer_simulator_unitary'), AerSimulator('aer_simulator_superop'), QasmSimulator('qasm_simulator'), StatevectorSimulator('statevector_simulator'), UnitarySimulator('unitary_simulator'), PulseSimulator('pulse_simulator')]\n"
     ]
    },
    {
     "name": "stderr",
     "output_type": "stream",
     "text": [
      "<frozen importlib._bootstrap>:219: RuntimeWarning: scipy._lib.messagestream.MessageStream size changed, may indicate binary incompatibility. Expected 56 from C header, got 64 from PyObject\n"
     ]
    }
   ],
   "source": [
    "from qiskit import Aer\n",
    "\n",
    "print(Aer.backends())"
   ]
  },
  {
   "cell_type": "markdown",
   "id": "e55e951b",
   "metadata": {
    "ExecuteTime": {
     "end_time": "2022-05-05T13:32:18.999640Z",
     "start_time": "2022-05-05T13:32:18.993693Z"
    }
   },
   "source": [
    "Page 52-53"
   ]
  },
  {
   "cell_type": "code",
   "execution_count": 2,
   "id": "7453793d",
   "metadata": {
    "ExecuteTime": {
     "end_time": "2022-05-05T13:32:42.368407Z",
     "start_time": "2022-05-05T13:32:42.142646Z"
    }
   },
   "outputs": [
    {
     "name": "stdout",
     "output_type": "stream",
     "text": [
      "{'00': 533, '11': 467}\n"
     ]
    }
   ],
   "source": [
    "from qiskit import QuantumCircuit,Aer,transpile\n",
    "\n",
    "qc = QuantumCircuit(2)\n",
    "qc.h(0)\n",
    "qc.cx(0, 1)\n",
    "qc.measure_all()\n",
    " \n",
    "backend = Aer.get_backend(\"aer_simulator\")\n",
    "tqc = transpile(qc, backend)\n",
    "job = backend.run(tqc, shots=1000)\n",
    "result = job.result()\n",
    "counts = result.get_counts(tqc)\n",
    "print(counts)"
   ]
  },
  {
   "cell_type": "markdown",
   "id": "6d14063c",
   "metadata": {
    "ExecuteTime": {
     "end_time": "2022-05-05T13:33:17.932308Z",
     "start_time": "2022-05-05T13:33:17.924996Z"
    }
   },
   "source": [
    "Page 54"
   ]
  },
  {
   "cell_type": "code",
   "execution_count": 3,
   "id": "5723e0b3",
   "metadata": {
    "ExecuteTime": {
     "end_time": "2022-05-05T13:33:49.940954Z",
     "start_time": "2022-05-05T13:33:49.791202Z"
    }
   },
   "outputs": [
    {
     "name": "stdout",
     "output_type": "stream",
     "text": [
      "Statevector([0.7071+0.j, 0.    +0.j, 0.    +0.j, 0.7071+0.j],\n",
      "            dims=(2, 2))\n"
     ]
    }
   ],
   "source": [
    "from qiskit import QuantumCircuit,Aer,transpile\n",
    "\n",
    "qc = QuantumCircuit(2)\n",
    "qc.h(0)\n",
    "qc.cx(0, 1)\n",
    "\n",
    "backend = Aer.get_backend(\"aer_simulator\")\n",
    "qc.save_statevector()\n",
    "tqc = transpile(qc, backend)\n",
    "job = backend.run(tqc)\n",
    "result = job.result()\n",
    "statevector = result.get_statevector(tqc, 4)\n",
    "print(statevector)\n"
   ]
  },
  {
   "cell_type": "markdown",
   "id": "0976c8b8-8410-4f67-902a-8f2c7030062d",
   "metadata": {},
   "source": [
    "Page 55-56"
   ]
  },
  {
   "cell_type": "code",
   "execution_count": 4,
   "id": "0a118695-f4c6-49f0-b390-20a90b707d89",
   "metadata": {},
   "outputs": [
    {
     "name": "stdout",
     "output_type": "stream",
     "text": [
      "Operator([[ 0.7071+0.j,  0.7071-0.j,  0.    +0.j,  0.    +0.j],\n",
      "          [ 0.    +0.j,  0.    +0.j,  0.7071+0.j, -0.7071+0.j],\n",
      "          [ 0.    +0.j,  0.    +0.j,  0.7071+0.j,  0.7071-0.j],\n",
      "          [ 0.7071+0.j, -0.7071+0.j,  0.    +0.j,  0.    +0.j]],\n",
      "         input_dims=(2, 2), output_dims=(2, 2))\n"
     ]
    }
   ],
   "source": [
    "from qiskit import QuantumCircuit,Aer,transpile\n",
    "\n",
    "qc = QuantumCircuit(2)\n",
    "qc.h(0)\n",
    "qc.cx(0, 1)\n",
    "\n",
    "backend = Aer.get_backend(\"aer_simulator\")\n",
    "qc.save_unitary()\n",
    "tqc = transpile(qc, backend)\n",
    "job = backend.run(tqc)\n",
    "result = job.result()\n",
    "unitary = result.get_unitary(qc, 4)\n",
    "print(unitary)"
   ]
  },
  {
   "cell_type": "markdown",
   "id": "bc9112bd",
   "metadata": {},
   "source": [
    "Page 59-60"
   ]
  },
  {
   "cell_type": "code",
   "execution_count": 5,
   "id": "98e3197c",
   "metadata": {
    "ExecuteTime": {
     "end_time": "2022-05-05T13:37:11.362970Z",
     "start_time": "2022-05-05T13:37:11.176004Z"
    }
   },
   "outputs": [
    {
     "name": "stdout",
     "output_type": "stream",
     "text": [
      "{'10': 2, '00': 497, '11': 501}\n"
     ]
    }
   ],
   "source": [
    "from qiskit import QuantumCircuit, Aer, transpile\n",
    "from qiskit.providers.aer.noise import \\\n",
    "        NoiseModel, depolarizing_error\n",
    "\n",
    "err_1 = depolarizing_error(0.95, 1)\n",
    "err_2 = depolarizing_error(0.01, 2)\n",
    "noise_model = NoiseModel()\n",
    "noise_model.add_all_qubit_quantum_error(err_1,\n",
    "                           ['u1', 'u2', 'u3'])\n",
    "noise_model.add_all_qubit_quantum_error(err_2,\n",
    "                                       ['cx'])\n",
    "\n",
    "qc = QuantumCircuit(2)\n",
    "qc.h(0)\n",
    "qc.cx(0, 1)\n",
    "qc.measure_all()\n",
    "\n",
    "backend = Aer.get_backend(\"aer_simulator\")\n",
    "backend.set_options(noise_model=noise_model)\n",
    "tqc = transpile(qc, backend)\n",
    "job = backend.run(tqc, shots=1000)\n",
    "result = job.result()\n",
    "counts = result.get_counts(tqc)\n",
    "print(counts)"
   ]
  },
  {
   "cell_type": "markdown",
   "id": "bd12d7ef-fe58-4e80-ba19-67c8b763c0f4",
   "metadata": {},
   "source": [
    "Page 60-61"
   ]
  },
  {
   "cell_type": "code",
   "execution_count": 6,
   "id": "3361028c",
   "metadata": {
    "ExecuteTime": {
     "end_time": "2022-05-05T13:42:19.901933Z",
     "start_time": "2022-05-05T13:42:19.898449Z"
    }
   },
   "outputs": [
    {
     "name": "stdout",
     "output_type": "stream",
     "text": [
      "{'01': 64, '11': 443, '10': 29, '00': 464}\n"
     ]
    }
   ],
   "source": [
    "from qiskit import QuantumCircuit, transpile\n",
    "from qiskit.providers.aer import AerSimulator\n",
    "from qiskit.test.mock import FakeVigo\n",
    "\n",
    "qc = QuantumCircuit(2)\n",
    "qc.h(0)\n",
    "qc.cx(0, 1)\n",
    "qc.measure_all()\n",
    "device_backend = FakeVigo()\n",
    "\n",
    "backend = AerSimulator.from_backend(device_backend)\n",
    "tqc = transpile(qc, backend)\n",
    "job = backend.run(tqc, shots=1000)\n",
    "result = job.result()\n",
    "counts = result.get_counts(tqc)\n",
    "print(counts)"
   ]
  }
 ],
 "metadata": {
  "kernelspec": {
   "display_name": "Qiskit v0.35.0 (ipykernel)",
   "language": "python",
   "name": "python3"
  },
  "language_info": {
   "codemirror_mode": {
    "name": "ipython",
    "version": 3
   },
   "file_extension": ".py",
   "mimetype": "text/x-python",
   "name": "python",
   "nbconvert_exporter": "python",
   "pygments_lexer": "ipython3",
   "version": "3.8.13"
  },
  "widgets": {
   "application/vnd.jupyter.widget-state+json": {
    "state": {},
    "version_major": 2,
    "version_minor": 0
   }
  }
 },
 "nbformat": 4,
 "nbformat_minor": 5
}
