{
 "cells": [
  {
   "cell_type": "markdown",
   "id": "e9c34909",
   "metadata": {},
   "source": [
    "# Chapter 2: Running Quantum Circuits"
   ]
  },
  {
   "cell_type": "markdown",
   "id": "b0482103",
   "metadata": {
    "ExecuteTime": {
     "end_time": "2022-05-05T13:46:50.178490Z",
     "start_time": "2022-05-05T13:46:50.167932Z"
    }
   },
   "source": [
    "## Using the BasicAer Simulators"
   ]
  },
  {
   "cell_type": "markdown",
   "id": "263543ab",
   "metadata": {},
   "source": [
    "Page 46:"
   ]
  },
  {
   "cell_type": "code",
   "execution_count": 1,
   "id": "065f884d",
   "metadata": {
    "ExecuteTime": {
     "end_time": "2022-05-05T13:16:29.175235Z",
     "start_time": "2022-05-05T13:16:28.556041Z"
    }
   },
   "outputs": [
    {
     "name": "stdout",
     "output_type": "stream",
     "text": [
      "[<QasmSimulatorPy('qasm_simulator')>, <StatevectorSimulatorPy('statevector_simulator')>, <UnitarySimulatorPy('unitary_simulator')>]\n"
     ]
    }
   ],
   "source": [
    "from qiskit import BasicAer\n",
    "print(BasicAer.backends())"
   ]
  },
  {
   "cell_type": "markdown",
   "id": "0424f0ac",
   "metadata": {},
   "source": [
    "Page 46-47"
   ]
  },
  {
   "cell_type": "code",
   "execution_count": 2,
   "id": "433bdbaf",
   "metadata": {},
   "outputs": [
    {
     "name": "stderr",
     "output_type": "stream",
     "text": [
      "<frozen importlib._bootstrap>:219: RuntimeWarning: scipy._lib.messagestream.MessageStream size changed, may indicate binary incompatibility. Expected 56 from C header, got 64 from PyObject\n"
     ]
    },
    {
     "name": "stdout",
     "output_type": "stream",
     "text": [
      "{'11': 502, '00': 498}\n"
     ]
    }
   ],
   "source": [
    "from qiskit import QuantumCircuit,BasicAer,transpile\n",
    "\n",
    "qc = QuantumCircuit(2)\n",
    "qc.h(0)\n",
    "qc.cx(0, 1)\n",
    "qc.measure_all()\n",
    "\n",
    "backend = BasicAer.get_backend(\"qasm_simulator\")\n",
    "tqc = transpile(qc, backend)\n",
    "job = backend.run(tqc, shots=1000)\n",
    "result = job.result()\n",
    "counts = result.get_counts(tqc)\n",
    "print(counts)"
   ]
  },
  {
   "cell_type": "markdown",
   "id": "28f41daa",
   "metadata": {},
   "source": [
    "Page 48"
   ]
  },
  {
   "cell_type": "code",
   "execution_count": 3,
   "id": "ab415ef8",
   "metadata": {},
   "outputs": [
    {
     "name": "stdout",
     "output_type": "stream",
     "text": [
      "[0.7071+0.j 0.    +0.j 0.    +0.j 0.7071+0.j]\n"
     ]
    }
   ],
   "source": [
    "from qiskit import QuantumCircuit,BasicAer,transpile\n",
    "\n",
    "qc = QuantumCircuit(2)\n",
    "qc.h(0)\n",
    "qc.cx(0, 1)\n",
    "\n",
    "backend = BasicAer.get_backend(\"statevector_simulator\")\n",
    "tqc = transpile(qc, backend)\n",
    "job = backend.run(tqc)\n",
    "result = job.result()\n",
    "statevector = result.get_statevector(tqc, 4)\n",
    "print(statevector)"
   ]
  },
  {
   "cell_type": "markdown",
   "id": "458d6fc7",
   "metadata": {},
   "source": [
    "Page 49-50"
   ]
  },
  {
   "cell_type": "code",
   "execution_count": 4,
   "id": "bc786dd4",
   "metadata": {},
   "outputs": [
    {
     "name": "stdout",
     "output_type": "stream",
     "text": [
      "[[ 0.7071+0.j  0.7071-0.j  0.    +0.j  0.    +0.j]\n",
      " [ 0.    +0.j  0.    +0.j  0.7071+0.j -0.7071+0.j]\n",
      " [ 0.    +0.j  0.    +0.j  0.7071+0.j  0.7071-0.j]\n",
      " [ 0.7071+0.j -0.7071+0.j  0.    +0.j  0.    +0.j]]\n"
     ]
    }
   ],
   "source": [
    "from qiskit import QuantumCircuit,BasicAer,transpile\n",
    "\n",
    "qc = QuantumCircuit(2)\n",
    "qc.h(0)\n",
    "qc.cx(0, 1)\n",
    "\n",
    "backend = BasicAer.get_backend(\"unitary_simulator\")\n",
    "tqc = transpile(qc, backend)\n",
    "job = backend.run(tqc)\n",
    "result = job.result()\n",
    "unitary = result.get_unitary(tqc, 4)\n",
    "print(unitary)"
   ]
  }
 ],
 "metadata": {
  "kernelspec": {
   "display_name": "Qiskit v0.35.0 (ipykernel)",
   "language": "python",
   "name": "python3"
  },
  "language_info": {
   "codemirror_mode": {
    "name": "ipython",
    "version": 3
   },
   "file_extension": ".py",
   "mimetype": "text/x-python",
   "name": "python",
   "nbconvert_exporter": "python",
   "pygments_lexer": "ipython3",
   "version": "3.8.13"
  },
  "widgets": {
   "application/vnd.jupyter.widget-state+json": {
    "state": {},
    "version_major": 2,
    "version_minor": 0
   }
  }
 },
 "nbformat": 4,
 "nbformat_minor": 5
}
