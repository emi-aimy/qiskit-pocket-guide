{
 "cells": [
  {
   "cell_type": "markdown",
   "id": "e9c34909",
   "metadata": {},
   "source": [
    "# Chapter 1: Quantum Circuits and Operations"
   ]
  },
  {
   "cell_type": "markdown",
   "id": "b0482103",
   "metadata": {
    "ExecuteTime": {
     "end_time": "2022-05-05T13:46:50.178490Z",
     "start_time": "2022-05-05T13:46:50.167932Z"
    }
   },
   "source": [
    "## Constructing Quantum Circuits"
   ]
  },
  {
   "cell_type": "markdown",
   "id": "263543ab",
   "metadata": {},
   "source": [
    "Page 13:"
   ]
  },
  {
   "cell_type": "code",
   "execution_count": 23,
   "id": "065f884d",
   "metadata": {
    "ExecuteTime": {
     "end_time": "2022-05-05T13:16:29.175235Z",
     "start_time": "2022-05-05T13:16:28.556041Z"
    }
   },
   "outputs": [
    {
     "data": {
      "text/plain": [
       "<qiskit.circuit.quantumcircuit.QuantumCircuit at 0x7f2622a826d0>"
      ]
     },
     "execution_count": 23,
     "metadata": {},
     "output_type": "execute_result"
    }
   ],
   "source": [
    "from qiskit import QuantumCircuit\n",
    "QuantumCircuit(2)"
   ]
  },
  {
   "cell_type": "code",
   "execution_count": 24,
   "id": "e0e54a9e",
   "metadata": {
    "ExecuteTime": {
     "end_time": "2022-05-05T13:16:29.186036Z",
     "start_time": "2022-05-05T13:16:29.179064Z"
    }
   },
   "outputs": [
    {
     "data": {
      "text/plain": [
       "<qiskit.circuit.quantumcircuit.QuantumCircuit at 0x7f26204e2760>"
      ]
     },
     "execution_count": 24,
     "metadata": {},
     "output_type": "execute_result"
    }
   ],
   "source": [
    "QuantumCircuit(2, 2)"
   ]
  },
  {
   "cell_type": "markdown",
   "id": "0424f0ac",
   "metadata": {},
   "source": [
    "Table 1-1 - Page 14-15"
   ]
  },
  {
   "cell_type": "code",
   "execution_count": 25,
   "id": "433bdbaf",
   "metadata": {
    "ExecuteTime": {
     "end_time": "2022-05-05T13:16:29.208150Z",
     "start_time": "2022-05-05T13:16:29.196718Z"
    }
   },
   "outputs": [
    {
     "data": {
      "text/plain": [
       "<qiskit.circuit.instructionset.InstructionSet at 0x7f262034e100>"
      ]
     },
     "execution_count": 25,
     "metadata": {},
     "output_type": "execute_result"
    }
   ],
   "source": [
    "import math\n",
    "\n",
    "qc = QuantumCircuit(4)\n",
    "qc.h(0)\n",
    "qc.id(2)\n",
    "qc.i(2)\n",
    "qc.p(math.pi/2,0)\n",
    "qc.rx(math.pi/4,2)\n",
    "qc.ry(math.pi/8,0)\n",
    "qc.rz(math.pi/2,1)\n",
    "qc.s(3)\n",
    "qc.sdg(3)\n",
    "qc.sx(2)\n",
    "qc.t(1)\n",
    "qc.tdg(1)\n",
    "qc.u(math.pi/2,0,math.pi,1)\n",
    "qc.x(3)\n",
    "qc.y([0,2,3])\n",
    "qc.z(2)"
   ]
  },
  {
   "cell_type": "markdown",
   "id": "28f41daa",
   "metadata": {
    "ExecuteTime": {
     "end_time": "2022-05-05T12:50:30.128203Z",
     "start_time": "2022-05-05T12:50:30.121537Z"
    }
   },
   "source": [
    "Figure 1-1 - Page 16"
   ]
  },
  {
   "cell_type": "code",
   "execution_count": 26,
   "id": "ab415ef8",
   "metadata": {
    "ExecuteTime": {
     "end_time": "2022-05-05T13:16:30.722708Z",
     "start_time": "2022-05-05T13:16:29.211773Z"
    }
   },
   "outputs": [
    {
     "data": {
      "image/png": "[encoded data removed]",
      "text/plain": [
       "<Figure size 387.597x264.88 with 1 Axes>"
      ]
     },
     "execution_count": 26,
     "metadata": {},
     "output_type": "execute_result"
    }
   ],
   "source": [
    "qc = QuantumCircuit(4)\n",
    "qc.h(0)\n",
    "qc.id(2)\n",
    "qc.p(math.pi/2,0)\n",
    "qc.rx(math.pi/4,2)\n",
    "qc.ry(math.pi/8,0)\n",
    "qc.rz(math.pi/2,1)\n",
    "qc.s(3)\n",
    "qc.sdg(3)\n",
    "qc.sx(2)\n",
    "qc.t(1)\n",
    "qc.tdg(1)\n",
    "qc.u(math.pi/2,0,math.pi,1)\n",
    "qc.x(3)\n",
    "qc.y([0,2,3])\n",
    "qc.z(2)\n",
    "qc.draw('mpl')"
   ]
  },
  {
   "cell_type": "markdown",
   "id": "458d6fc7",
   "metadata": {},
   "source": [
    "Table 1-2 - Page 16-18"
   ]
  },
  {
   "cell_type": "code",
   "execution_count": 27,
   "id": "bc786dd4",
   "metadata": {
    "ExecuteTime": {
     "end_time": "2022-05-05T13:24:50.962582Z",
     "start_time": "2022-05-05T13:24:50.926733Z"
    }
   },
   "outputs": [
    {
     "data": {
      "text/plain": [
       "<qiskit.circuit.instructionset.InstructionSet at 0x7f262033d400>"
      ]
     },
     "execution_count": 27,
     "metadata": {},
     "output_type": "execute_result"
    }
   ],
   "source": [
    "qc.ccx(0,1,2)\n",
    "qc.ch(0,1)\n",
    "qc.cp(math.pi/4,0,1)\n",
    "qc.crx(math.pi/2,2,3)\n",
    "qc.crz(math.pi/4,0,1)\n",
    "qc.cswap(0,2,3)\n",
    "qc.fredkin(0,2,3)\n",
    "qc.csx(0,1)\n",
    "qc.cu(math.pi/2,0,math.pi,0,0,1)\n",
    "qc.cx(2,3)\n",
    "qc.cnot(2,3)\n",
    "qc.cy(2,3)\n",
    "qc.cz(1,2)\n",
    "qc.dcx(2,3)\n",
    "qc.iswap(0,1)\n",
    "qc.mcp(math.pi/4,[0,1,2],3)\n",
    "qc.mcx([0,1,2],3)\n",
    "qc.swap(2,3)"
   ]
  },
  {
   "cell_type": "markdown",
   "id": "89d712db",
   "metadata": {},
   "source": [
    "Figure 1-2 - Page 18"
   ]
  },
  {
   "cell_type": "code",
   "execution_count": 28,
   "id": "2dc0adcd",
   "metadata": {
    "ExecuteTime": {
     "end_time": "2022-05-05T13:30:46.826122Z",
     "start_time": "2022-05-05T13:30:46.374697Z"
    }
   },
   "outputs": [
    {
     "data": {
      "image/png": "[encoded data removed]",
      "text/plain": [
       "<Figure size 1049.8x264.88 with 1 Axes>"
      ]
     },
     "execution_count": 28,
     "metadata": {},
     "output_type": "execute_result"
    }
   ],
   "source": [
    "qc = QuantumCircuit(4)\n",
    "qc.ccx(0,1,2)\n",
    "qc.ch(0,1)\n",
    "qc.cp(math.pi/4,0,1)\n",
    "qc.crx(math.pi/2,2,3)\n",
    "qc.crz(math.pi/4,0,1)\n",
    "qc.cswap(0,2,3)\n",
    "qc.csx(0,1)\n",
    "qc.cu(math.pi/2,0,math.pi,0,0,1)\n",
    "qc.cx(2,3)\n",
    "qc.cy(2,3)\n",
    "qc.cz(1,2)\n",
    "qc.dcx(2,3)\n",
    "qc.iswap(0,1)\n",
    "qc.mcp(math.pi/4,[0,1,2],3)\n",
    "qc.mcx([0,1,2],3)\n",
    "qc.swap(2,3)\n",
    "qc.draw('mpl')"
   ]
  },
  {
   "cell_type": "markdown",
   "id": "e55e951b",
   "metadata": {
    "ExecuteTime": {
     "end_time": "2022-05-05T13:32:18.999640Z",
     "start_time": "2022-05-05T13:32:18.993693Z"
    }
   },
   "source": [
    "Figure 1-3 - Page 19"
   ]
  },
  {
   "cell_type": "code",
   "execution_count": 29,
   "id": "7453793d",
   "metadata": {
    "ExecuteTime": {
     "end_time": "2022-05-05T13:32:42.368407Z",
     "start_time": "2022-05-05T13:32:42.142646Z"
    }
   },
   "outputs": [
    {
     "data": {
      "image/png": "[encoded data removed]",
      "text/plain": [
       "<Figure size 267.197x204.68 with 1 Axes>"
      ]
     },
     "execution_count": 29,
     "metadata": {},
     "output_type": "execute_result"
    }
   ],
   "source": [
    "qc = QuantumCircuit(3)\n",
    "qc.h(0)\n",
    "qc.cx(0, 1)\n",
    "qc.cx(0, 2)\n",
    "qc.draw('mpl')"
   ]
  },
  {
   "cell_type": "markdown",
   "id": "6d14063c",
   "metadata": {
    "ExecuteTime": {
     "end_time": "2022-05-05T13:33:17.932308Z",
     "start_time": "2022-05-05T13:33:17.924996Z"
    }
   },
   "source": [
    "Figure 1-4 - Page 20"
   ]
  },
  {
   "cell_type": "code",
   "execution_count": 30,
   "id": "5723e0b3",
   "metadata": {
    "ExecuteTime": {
     "end_time": "2022-05-05T13:33:49.940954Z",
     "start_time": "2022-05-05T13:33:49.791202Z"
    }
   },
   "outputs": [
    {
     "data": {
      "image/png": "[encoded data removed]",
      "text/plain": [
       "<Figure size 387.452x144.48 with 1 Axes>"
      ]
     },
     "execution_count": 30,
     "metadata": {},
     "output_type": "execute_result"
    }
   ],
   "source": [
    "qc = QuantumCircuit(2)\n",
    "qc.h([0,1])\n",
    "qc.barrier()\n",
    "qc.x(0)\n",
    "qc.x(0)\n",
    "qc.s(1)\n",
    "qc.barrier([1])\n",
    "qc.s(1)\n",
    "qc.draw('mpl')"
   ]
  },
  {
   "cell_type": "markdown",
   "id": "bc9112bd",
   "metadata": {},
   "source": [
    "Figure 1-5 - Page 21"
   ]
  },
  {
   "cell_type": "code",
   "execution_count": 31,
   "id": "98e3197c",
   "metadata": {
    "ExecuteTime": {
     "end_time": "2022-05-05T13:37:11.362970Z",
     "start_time": "2022-05-05T13:37:11.176004Z"
    }
   },
   "outputs": [
    {
     "data": {
      "image/png": "[encoded data removed]",
      "text/plain": [
       "<Figure size 327.397x264.88 with 1 Axes>"
      ]
     },
     "execution_count": 31,
     "metadata": {},
     "output_type": "execute_result"
    }
   ],
   "source": [
    "qc = QuantumCircuit(3, 3)\n",
    "qc.h([0,1,2])\n",
    "qc.measure([0,1,2], [0,1,2])\n",
    "qc.draw('mpl')"
   ]
  },
  {
   "cell_type": "markdown",
   "id": "e1875b50",
   "metadata": {
    "ExecuteTime": {
     "end_time": "2022-05-05T13:37:50.394394Z",
     "start_time": "2022-05-05T13:37:50.388363Z"
    }
   },
   "source": [
    "Figure 1-6 - Page 22"
   ]
  },
  {
   "cell_type": "code",
   "execution_count": 32,
   "id": "889650db",
   "metadata": {
    "ExecuteTime": {
     "end_time": "2022-05-05T13:38:10.216120Z",
     "start_time": "2022-05-05T13:38:10.030687Z"
    }
   },
   "outputs": [
    {
     "data": {
      "image/png": "[encoded data removed]",
      "text/plain": [
       "<Figure size 417.879x264.88 with 1 Axes>"
      ]
     },
     "execution_count": 32,
     "metadata": {},
     "output_type": "execute_result"
    }
   ],
   "source": [
    "qc = QuantumCircuit(3)\n",
    "qc.h([0,1,2])\n",
    "qc.measure_all()\n",
    "qc.draw('mpl')"
   ]
  },
  {
   "cell_type": "markdown",
   "id": "e4a07ea2",
   "metadata": {},
   "source": [
    "Table 1-3 - Page 22"
   ]
  },
  {
   "cell_type": "code",
   "execution_count": 33,
   "id": "7d920481",
   "metadata": {
    "ExecuteTime": {
     "end_time": "2022-05-05T13:40:22.632663Z",
     "start_time": "2022-05-05T13:40:22.628458Z"
    }
   },
   "outputs": [
    {
     "data": {
      "text/plain": [
       "2"
      ]
     },
     "execution_count": 33,
     "metadata": {},
     "output_type": "execute_result"
    }
   ],
   "source": [
    "qc.depth()"
   ]
  },
  {
   "cell_type": "code",
   "execution_count": 34,
   "id": "a17fbef4",
   "metadata": {
    "ExecuteTime": {
     "end_time": "2022-05-05T13:40:48.943077Z",
     "start_time": "2022-05-05T13:40:48.934708Z"
    }
   },
   "outputs": [
    {
     "data": {
      "text/plain": [
       "6"
      ]
     },
     "execution_count": 34,
     "metadata": {},
     "output_type": "execute_result"
    }
   ],
   "source": [
    "qc.size()"
   ]
  },
  {
   "cell_type": "code",
   "execution_count": 35,
   "id": "9c422246",
   "metadata": {
    "ExecuteTime": {
     "end_time": "2022-05-05T13:40:55.152061Z",
     "start_time": "2022-05-05T13:40:55.147723Z"
    }
   },
   "outputs": [
    {
     "data": {
      "text/plain": [
       "6"
      ]
     },
     "execution_count": 35,
     "metadata": {},
     "output_type": "execute_result"
    }
   ],
   "source": [
    "qc.width()"
   ]
  },
  {
   "cell_type": "markdown",
   "id": "1d9bccec",
   "metadata": {
    "ExecuteTime": {
     "end_time": "2022-05-05T13:41:33.263074Z",
     "start_time": "2022-05-05T13:41:33.257205Z"
    }
   },
   "source": [
    "Table 1-4 - Page 23"
   ]
  },
  {
   "cell_type": "code",
   "execution_count": 36,
   "id": "7c345a5a",
   "metadata": {
    "ExecuteTime": {
     "end_time": "2022-05-05T13:42:09.269910Z",
     "start_time": "2022-05-05T13:42:09.261054Z"
    }
   },
   "outputs": [
    {
     "data": {
      "text/plain": [
       "[Clbit(ClassicalRegister(3, 'meas'), 0),\n",
       " Clbit(ClassicalRegister(3, 'meas'), 1),\n",
       " Clbit(ClassicalRegister(3, 'meas'), 2)]"
      ]
     },
     "execution_count": 36,
     "metadata": {},
     "output_type": "execute_result"
    }
   ],
   "source": [
    "qc.clbits"
   ]
  },
  {
   "cell_type": "code",
   "execution_count": 37,
   "id": "34249c44",
   "metadata": {
    "ExecuteTime": {
     "end_time": "2022-05-05T13:42:14.003590Z",
     "start_time": "2022-05-05T13:42:13.997609Z"
    }
   },
   "outputs": [
    {
     "data": {
      "text/plain": [
       "[(Instruction(name='h', num_qubits=1, num_clbits=0, params=[]), [Qubit(QuantumRegister(3, 'q'), 0)], []), (Instruction(name='h', num_qubits=1, num_clbits=0, params=[]), [Qubit(QuantumRegister(3, 'q'), 1)], []), (Instruction(name='h', num_qubits=1, num_clbits=0, params=[]), [Qubit(QuantumRegister(3, 'q'), 2)], []), (Instruction(name='barrier', num_qubits=3, num_clbits=0, params=[]), [Qubit(QuantumRegister(3, 'q'), 0), Qubit(QuantumRegister(3, 'q'), 1), Qubit(QuantumRegister(3, 'q'), 2)], []), (Instruction(name='measure', num_qubits=1, num_clbits=1, params=[]), [Qubit(QuantumRegister(3, 'q'), 0)], [Clbit(ClassicalRegister(3, 'meas'), 0)]), (Instruction(name='measure', num_qubits=1, num_clbits=1, params=[]), [Qubit(QuantumRegister(3, 'q'), 1)], [Clbit(ClassicalRegister(3, 'meas'), 1)]), (Instruction(name='measure', num_qubits=1, num_clbits=1, params=[]), [Qubit(QuantumRegister(3, 'q'), 2)], [Clbit(ClassicalRegister(3, 'meas'), 2)])]"
      ]
     },
     "execution_count": 37,
     "metadata": {},
     "output_type": "execute_result"
    }
   ],
   "source": [
    "qc.data"
   ]
  },
  {
   "cell_type": "code",
   "execution_count": 38,
   "id": "3361028c",
   "metadata": {
    "ExecuteTime": {
     "end_time": "2022-05-05T13:42:19.901933Z",
     "start_time": "2022-05-05T13:42:19.898449Z"
    }
   },
   "outputs": [
    {
     "data": {
      "text/plain": [
       "0"
      ]
     },
     "execution_count": 38,
     "metadata": {},
     "output_type": "execute_result"
    }
   ],
   "source": [
    "qc.global_phase"
   ]
  },
  {
   "cell_type": "code",
   "execution_count": 39,
   "id": "3437346f",
   "metadata": {
    "ExecuteTime": {
     "end_time": "2022-05-05T13:42:26.299050Z",
     "start_time": "2022-05-05T13:42:26.292512Z"
    }
   },
   "outputs": [
    {
     "data": {
      "text/plain": [
       "3"
      ]
     },
     "execution_count": 39,
     "metadata": {},
     "output_type": "execute_result"
    }
   ],
   "source": [
    "qc.num_clbits"
   ]
  },
  {
   "cell_type": "code",
   "execution_count": 40,
   "id": "8fe0537b",
   "metadata": {
    "ExecuteTime": {
     "end_time": "2022-05-05T13:42:32.799660Z",
     "start_time": "2022-05-05T13:42:32.795220Z"
    }
   },
   "outputs": [
    {
     "data": {
      "text/plain": [
       "3"
      ]
     },
     "execution_count": 40,
     "metadata": {},
     "output_type": "execute_result"
    }
   ],
   "source": [
    "qc.num_qubits"
   ]
  },
  {
   "cell_type": "code",
   "execution_count": 41,
   "id": "bd0c6520",
   "metadata": {
    "ExecuteTime": {
     "end_time": "2022-05-05T13:42:39.323977Z",
     "start_time": "2022-05-05T13:42:39.319624Z"
    }
   },
   "outputs": [
    {
     "data": {
      "text/plain": [
       "[Qubit(QuantumRegister(3, 'q'), 0),\n",
       " Qubit(QuantumRegister(3, 'q'), 1),\n",
       " Qubit(QuantumRegister(3, 'q'), 2)]"
      ]
     },
     "execution_count": 41,
     "metadata": {},
     "output_type": "execute_result"
    }
   ],
   "source": [
    "qc.qubits"
   ]
  },
  {
   "cell_type": "markdown",
   "id": "0ee166fb-03e3-4ef7-8d83-e7425326a95b",
   "metadata": {},
   "source": [
    "Figure 1-7 - Page 15: **UPDATE BOOK**"
   ]
  },
  {
   "cell_type": "code",
   "execution_count": 45,
   "id": "dbc8e33b",
   "metadata": {},
   "outputs": [
    {
     "data": {
      "image/png": "[encoded data removed]",
      "text/plain": [
       "<Figure size 206.852x144.48 with 1 Axes>"
      ]
     },
     "execution_count": 45,
     "metadata": {},
     "output_type": "execute_result"
    }
   ],
   "source": [
    "from qiskit.circuit.library import CXGate\n",
    "\n",
    "qc = QuantumCircuit(2)\n",
    "qc.h(1)\n",
    "cx_gate = CXGate()\n",
    "qc.append(cx_gate, [1,0])\n",
    "qc.draw()"
   ]
  },
  {
   "cell_type": "markdown",
   "id": "3e257f7a-0784-42a5-9b15-44b20511521c",
   "metadata": {},
   "source": [
    "Figure 1-8: **UPDATE BOOK**"
   ]
  },
  {
   "cell_type": "code",
   "execution_count": 47,
   "id": "87494355-a537-44b2-b302-0ba1b7d78aed",
   "metadata": {},
   "outputs": [
    {
     "data": {
      "image/png": "[encoded data removed]",
      "text/plain": [
       "<Figure size 206.997x204.68 with 1 Axes>"
      ]
     },
     "execution_count": 47,
     "metadata": {},
     "output_type": "execute_result"
    }
   ],
   "source": [
    "from qiskit.circuit import QuantumCircuit,\\\n",
    "                           Parameter\n",
    "\n",
    "theta1 = Parameter('θ1')\n",
    "theta2 = Parameter('θ2')\n",
    "theta3 = Parameter('θ3')\n",
    "\n",
    "qc = QuantumCircuit(3)\n",
    "qc.h([0,1,2])\n",
    "qc.p(theta1,0)\n",
    "qc.p(theta2,1)\n",
    "qc.p(theta3,2)\n",
    "\n",
    "qc.draw()"
   ]
  },
  {
   "cell_type": "markdown",
   "id": "9eb81f6d-5e00-4fb4-a565-157b76f7e010",
   "metadata": {},
   "source": [
    "Figure 1-9:"
   ]
  },
  {
   "cell_type": "code",
   "execution_count": 49,
   "id": "723f4eca-cdf6-4158-912e-8c21b82e135e",
   "metadata": {},
   "outputs": [
    {
     "data": {
      "image/png": "[encoded data removed]",
      "text/plain": [
       "<Figure size 206.997x204.68 with 1 Axes>"
      ]
     },
     "execution_count": 49,
     "metadata": {},
     "output_type": "execute_result"
    }
   ],
   "source": [
    "b_qc = qc.bind_parameters({theta1: math.pi/8,\n",
    "                              theta2: math.pi/4,\n",
    "                              theta3: math.pi/2})\n",
    "b_qc.draw()"
   ]
  },
  {
   "cell_type": "markdown",
   "id": "44a0f0aa-f9a7-4192-b604-4fec63cac610",
   "metadata": {},
   "source": [
    "Figure 1-10:"
   ]
  },
  {
   "cell_type": "code",
   "execution_count": 50,
   "id": "1a5ccb5b-7beb-46e4-b1a7-da6d64e6da34",
   "metadata": {},
   "outputs": [
    {
     "data": {
      "image/png": "[encoded data removed]",
      "text/plain": [
       "<Figure size 206.852x204.68 with 1 Axes>"
      ]
     },
     "execution_count": 50,
     "metadata": {},
     "output_type": "execute_result"
    }
   ],
   "source": [
    "qc = QuantumCircuit(2,2)\n",
    "qc.h(0)\n",
    "another_qc = QuantumCircuit(2,2)\n",
    "another_qc.cx(0,1)\n",
    "bell_qc = qc.compose(another_qc)\n",
    "bell_qc.draw()"
   ]
  },
  {
   "cell_type": "markdown",
   "id": "240da14a-bb2e-4b0a-a710-d57604f224a4",
   "metadata": {},
   "source": [
    "Figure 1-11:"
   ]
  },
  {
   "cell_type": "code",
   "execution_count": 51,
   "id": "c86eddfd-69f5-4159-9a9e-c883f8e19711",
   "metadata": {},
   "outputs": [
    {
     "data": {
      "image/png": "[encoded data removed]",
      "text/plain": [
       "<Figure size 206.852x144.48 with 1 Axes>"
      ]
     },
     "execution_count": 51,
     "metadata": {},
     "output_type": "execute_result"
    }
   ],
   "source": [
    "qc = QuantumCircuit(2)\n",
    "qc.h(0)\n",
    "qc.s(0)\n",
    "qc.x(1)\n",
    "decomposed_qc = qc.decompose()\n",
    "decomposed_qc.draw()"
   ]
  },
  {
   "cell_type": "markdown",
   "id": "dbd9ddcd-43c0-48fb-ac41-e399277a36e6",
   "metadata": {},
   "source": [
    "Figure 1-12:"
   ]
  },
  {
   "cell_type": "code",
   "execution_count": 52,
   "id": "8305388d-36ab-4e69-b61a-40a4779c0d59",
   "metadata": {},
   "outputs": [
    {
     "data": {
      "image/png": "[encoded data removed]",
      "text/plain": [
       "<Figure size 327.252x204.68 with 1 Axes>"
      ]
     },
     "execution_count": 52,
     "metadata": {},
     "output_type": "execute_result"
    }
   ],
   "source": [
    "qasm_str = \"\"\"\n",
    "OPENQASM 2.0;\n",
    "include \"qelib1.inc\";\n",
    "qreg q[2];\n",
    "creg c[2];\n",
    "h q[0];\n",
    "cx q[0],q[1];\n",
    "measure q[0] -> c[0];\n",
    "measure q[1] -> c[1];\n",
    "\"\"\"\n",
    "new_qc = QuantumCircuit.from_qasm_str(qasm_str)\n",
    "new_qc.draw()"
   ]
  },
  {
   "cell_type": "markdown",
   "id": "0e57ad96-765b-48e7-b16c-af7952a90a55",
   "metadata": {},
   "source": [
    "Figure 1-13:"
   ]
  },
  {
   "cell_type": "code",
   "execution_count": 53,
   "id": "20b8a1fc-3f77-4870-949b-b5ac01e4d359",
   "metadata": {},
   "outputs": [
    {
     "data": {
      "image/png": "[encoded data removed]",
      "text/plain": [
       "<Figure size 206.852x144.48 with 1 Axes>"
      ]
     },
     "execution_count": 53,
     "metadata": {},
     "output_type": "execute_result"
    }
   ],
   "source": [
    "qc = QuantumCircuit(2)\n",
    "qc.initialize([0, 0, 0, 1])\n",
    "qc.draw()"
   ]
  },
  {
   "cell_type": "markdown",
   "id": "45d62721-f91d-4716-80d6-396b45274105",
   "metadata": {},
   "source": [
    "Figure 1-14:"
   ]
  },
  {
   "cell_type": "code",
   "execution_count": 54,
   "id": "425bfa69-0157-4709-8164-990a6d0aae63",
   "metadata": {},
   "outputs": [
    {
     "data": {
      "image/png": "[encoded data removed]",
      "text/plain": [
       "<Figure size 193.726x84.28 with 1 Axes>"
      ]
     },
     "execution_count": 54,
     "metadata": {},
     "output_type": "execute_result"
    }
   ],
   "source": [
    "qc = QuantumCircuit(1)\n",
    "qc.x(0)\n",
    "qc.reset(0)\n",
    "qc.draw()"
   ]
  },
  {
   "cell_type": "markdown",
   "id": "7b7b0bd8-a71b-439e-b939-54976df64ccd",
   "metadata": {},
   "source": [
    "Figure 1-15:"
   ]
  },
  {
   "cell_type": "code",
   "execution_count": 55,
   "id": "661d3730-0305-44cc-bc65-665c2e070b30",
   "metadata": {},
   "outputs": [
    {
     "data": {
      "image/png": "[encoded data removed]",
      "text/plain": [
       "<Figure size 267.052x144.48 with 1 Axes>"
      ]
     },
     "execution_count": 55,
     "metadata": {},
     "output_type": "execute_result"
    }
   ],
   "source": [
    "anti_cnot_qc = QuantumCircuit(2)\n",
    "    \n",
    "anti_cnot_qc.x(0)\n",
    "anti_cnot_qc.cx(0,1)\n",
    "anti_cnot_qc.x(0)\n",
    "anti_cnot_qc.draw()"
   ]
  },
  {
   "cell_type": "markdown",
   "id": "9e311a87-dff9-498f-847a-cee9602d8d35",
   "metadata": {},
   "source": [
    "Figure 1-16:"
   ]
  },
  {
   "cell_type": "code",
   "execution_count": 56,
   "id": "a439c722-ca9f-491c-b351-7040128f10b6",
   "metadata": {},
   "outputs": [
    {
     "data": {
      "image/png": "[encoded data removed]",
      "text/plain": [
       "<Figure size 327.397x204.68 with 1 Axes>"
      ]
     },
     "execution_count": 56,
     "metadata": {},
     "output_type": "execute_result"
    }
   ],
   "source": [
    "anti_cnot_gate = anti_cnot_qc.to_gate()\n",
    "\n",
    "qc = QuantumCircuit(3)\n",
    "qc.x([0,1,2])\n",
    "qc.append(anti_cnot_gate, [0,2])\n",
    "\n",
    "qc.decompose().draw()"
   ]
  },
  {
   "cell_type": "markdown",
   "id": "032e6147-dbd1-471a-bba3-1b8014a25160",
   "metadata": {},
   "source": [
    "Figure 1-17:"
   ]
  },
  {
   "cell_type": "code",
   "execution_count": 57,
   "id": "172c8d5a-01d0-4dea-983c-b17c8fb00278",
   "metadata": {},
   "outputs": [
    {
     "data": {
      "image/png": "[encoded data removed]",
      "text/plain": [
       "<Figure size 193.726x84.28 with 1 Axes>"
      ]
     },
     "execution_count": 57,
     "metadata": {},
     "output_type": "execute_result"
    }
   ],
   "source": [
    "reset_one_qc = QuantumCircuit(1)\n",
    "    \n",
    "reset_one_qc.reset(0)\n",
    "reset_one_qc.x(0)\n",
    "reset_one_qc.draw()"
   ]
  },
  {
   "cell_type": "markdown",
   "id": "67f1ac72-a886-4b31-a4c2-040e826aebb4",
   "metadata": {},
   "source": [
    "Figure 1-18:"
   ]
  },
  {
   "cell_type": "code",
   "execution_count": 58,
   "id": "c1e38cb5-1603-4190-bf85-d4e6b3669ebc",
   "metadata": {},
   "outputs": [
    {
     "data": {
      "image/png": "[encoded data removed]",
      "text/plain": [
       "<Figure size 267.052x144.48 with 1 Axes>"
      ]
     },
     "execution_count": 58,
     "metadata": {},
     "output_type": "execute_result"
    }
   ],
   "source": [
    "reset_one_inst = reset_one_qc.to_instruction()\n",
    "    \n",
    "qc = QuantumCircuit(2)\n",
    "qc.h([0,1])\n",
    "qc.reset(0)\n",
    "qc.append(reset_one_inst, [1])\n",
    "\n",
    "qc.decompose().draw()"
   ]
  },
  {
   "cell_type": "markdown",
   "id": "eb89563b-87bd-423d-8b91-591c06b9ecc8",
   "metadata": {},
   "source": [
    "Figure 1-19: **UPDATE BOOK**"
   ]
  },
  {
   "cell_type": "code",
   "execution_count": 62,
   "id": "ae1f0ff1-5634-4ee1-bbad-86de01c80cce",
   "metadata": {},
   "outputs": [
    {
     "data": {
      "image/png": "[encoded data removed]",
      "text/plain": [
       "<Figure size 678.298x325.08 with 1 Axes>"
      ]
     },
     "execution_count": 62,
     "metadata": {},
     "output_type": "execute_result"
    }
   ],
   "source": [
    "from qiskit import QuantumRegister, \\\n",
    "                   ClassicalRegister\n",
    "\n",
    "qr = QuantumRegister(3, 'q')\n",
    "scratch = QuantumRegister(1, 'scratch')\n",
    "cr = ClassicalRegister(3, 'c')\n",
    "qc = QuantumCircuit(qr, scratch, cr)\n",
    "    \n",
    "qc.h(qr)\n",
    "qc.x(scratch)\n",
    "qc.h(scratch)\n",
    "qc.cx(qr[0], scratch)\n",
    "qc.cx(qr[2], scratch)\n",
    "qc.barrier(qr)\n",
    "qc.h(qr)\n",
    "qc.measure(qr, cr)\n",
    "\n",
    "qc.draw()"
   ]
  },
  {
   "cell_type": "code",
   "execution_count": null,
   "id": "53d1ab09-e1f3-48f9-942f-234ea2dc1f7d",
   "metadata": {},
   "outputs": [],
   "source": []
  }
 ],
 "metadata": {
  "kernelspec": {
   "display_name": "Qiskit v0.35.0 (ipykernel)",
   "language": "python",
   "name": "python3"
  },
  "language_info": {
   "codemirror_mode": {
    "name": "ipython",
    "version": 3
   },
   "file_extension": ".py",
   "mimetype": "text/x-python",
   "name": "python",
   "nbconvert_exporter": "python",
   "pygments_lexer": "ipython3",
   "version": "3.8.13"
  },
  "widgets": {
   "application/vnd.jupyter.widget-state+json": {
    "state": {},
    "version_major": 2,
    "version_minor": 0
   }
  }
 },
 "nbformat": 4,
 "nbformat_minor": 5
}