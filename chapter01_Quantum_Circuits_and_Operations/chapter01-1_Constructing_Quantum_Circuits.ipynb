{
 "cells": [
  {
   "cell_type": "markdown",
   "id": "e9c34909",
   "metadata": {},
   "source": [
    "# Chapter 1: Quantum Circuits and Operations"
   ]
  },
  {
   "cell_type": "markdown",
   "id": "b0482103",
   "metadata": {
    "ExecuteTime": {
     "end_time": "2022-05-05T13:46:50.178490Z",
     "start_time": "2022-05-05T13:46:50.167932Z"
    }
   },
   "source": [
    "## Constructing Quantum Circuits"
   ]
  },
  {
   "cell_type": "markdown",
   "id": "263543ab",
   "metadata": {},
   "source": [
    "Page 13:"
   ]
  },
  {
   "cell_type": "code",
   "execution_count": 1,
   "id": "065f884d",
   "metadata": {
    "ExecuteTime": {
     "end_time": "2022-05-05T13:16:29.175235Z",
     "start_time": "2022-05-05T13:16:28.556041Z"
    }
   },
   "outputs": [
    {
     "data": {
      "text/plain": [
       "<qiskit.circuit.quantumcircuit.QuantumCircuit at 0x1103459a0>"
      ]
     },
     "execution_count": 1,
     "metadata": {},
     "output_type": "execute_result"
    }
   ],
   "source": [
    "from qiskit import QuantumCircuit\n",
    "QuantumCircuit(2)"
   ]
  },
  {
   "cell_type": "code",
   "execution_count": 2,
   "id": "e0e54a9e",
   "metadata": {
    "ExecuteTime": {
     "end_time": "2022-05-05T13:16:29.186036Z",
     "start_time": "2022-05-05T13:16:29.179064Z"
    }
   },
   "outputs": [
    {
     "data": {
      "text/plain": [
       "<qiskit.circuit.quantumcircuit.QuantumCircuit at 0x113fe9610>"
      ]
     },
     "execution_count": 2,
     "metadata": {},
     "output_type": "execute_result"
    }
   ],
   "source": [
    "QuantumCircuit(2, 2)"
   ]
  },
  {
   "cell_type": "markdown",
   "id": "0424f0ac",
   "metadata": {},
   "source": [
    "Table 1-1 - Page 14-15"
   ]
  },
  {
   "cell_type": "code",
   "execution_count": 3,
   "id": "433bdbaf",
   "metadata": {
    "ExecuteTime": {
     "end_time": "2022-05-05T13:16:29.208150Z",
     "start_time": "2022-05-05T13:16:29.196718Z"
    }
   },
   "outputs": [
    {
     "data": {
      "text/plain": [
       "<qiskit.circuit.instructionset.InstructionSet at 0x114017480>"
      ]
     },
     "execution_count": 3,
     "metadata": {},
     "output_type": "execute_result"
    }
   ],
   "source": [
    "import math\n",
    "\n",
    "qc = QuantumCircuit(4)\n",
    "qc.h(0)\n",
    "qc.id(2)\n",
    "qc.i(2)\n",
    "qc.p(math.pi/2,0)\n",
    "qc.rx(math.pi/4,2)\n",
    "qc.ry(math.pi/8,0)\n",
    "qc.rz(math.pi/2,1)\n",
    "qc.s(3)\n",
    "qc.sdg(3)\n",
    "qc.sx(2)\n",
    "qc.t(1)\n",
    "qc.tdg(1)\n",
    "qc.u(math.pi/2,0,math.pi,1)\n",
    "qc.x(3)\n",
    "qc.y([0,2,3])\n",
    "qc.z(2)"
   ]
  },
  {
   "cell_type": "markdown",
   "id": "28f41daa",
   "metadata": {
    "ExecuteTime": {
     "end_time": "2022-05-05T12:50:30.128203Z",
     "start_time": "2022-05-05T12:50:30.121537Z"
    }
   },
   "source": [
    "Figure 1-1 - Page 16"
   ]
  },
  {
   "cell_type": "code",
   "execution_count": 4,
   "id": "ab415ef8",
   "metadata": {
    "ExecuteTime": {
     "end_time": "2022-05-05T13:16:30.722708Z",
     "start_time": "2022-05-05T13:16:29.211773Z"
    }
   },
   "outputs": [
    {
     "data": {
      "image/png": "[encoded data removed]",
      "text/plain": [
       "<Figure size 387.597x264.88 with 1 Axes>"
      ]
     },
     "execution_count": 4,
     "metadata": {},
     "output_type": "execute_result"
    }
   ],
   "source": [
    "qc = QuantumCircuit(4)\n",
    "qc.h(0)\n",
    "qc.id(2)\n",
    "qc.p(math.pi/2,0)\n",
    "qc.rx(math.pi/4,2)\n",
    "qc.ry(math.pi/8,0)\n",
    "qc.rz(math.pi/2,1)\n",
    "qc.s(3)\n",
    "qc.sdg(3)\n",
    "qc.sx(2)\n",
    "qc.t(1)\n",
    "qc.tdg(1)\n",
    "qc.u(math.pi/2,0,math.pi,1)\n",
    "qc.x(3)\n",
    "qc.y([0,2,3])\n",
    "qc.z(2)\n",
    "qc.draw('mpl')"
   ]
  },
  {
   "cell_type": "markdown",
   "id": "458d6fc7",
   "metadata": {},
   "source": [
    "Table 1-2 - Page 16-18"
   ]
  },
  {
   "cell_type": "code",
   "execution_count": 5,
   "id": "bc786dd4",
   "metadata": {
    "ExecuteTime": {
     "end_time": "2022-05-05T13:24:50.962582Z",
     "start_time": "2022-05-05T13:24:50.926733Z"
    }
   },
   "outputs": [
    {
     "data": {
      "text/plain": [
       "<qiskit.circuit.instructionset.InstructionSet at 0x11f771140>"
      ]
     },
     "execution_count": 5,
     "metadata": {},
     "output_type": "execute_result"
    }
   ],
   "source": [
    "qc.ccx(0,1,2)\n",
    "qc.ch(0,1)\n",
    "qc.cp(math.pi/4,0,1)\n",
    "qc.crx(math.pi/2,2,3)\n",
    "qc.crz(math.pi/4,0,1)\n",
    "qc.cswap(0,2,3)\n",
    "qc.fredkin(0,2,3)\n",
    "qc.csx(0,1)\n",
    "qc.cu(math.pi/2,0,math.pi,0,0,1)\n",
    "qc.cx(2,3)\n",
    "qc.cnot(2,3)\n",
    "qc.cy(2,3)\n",
    "qc.cz(1,2)\n",
    "qc.dcx(2,3)\n",
    "qc.iswap(0,1)\n",
    "qc.mcp(math.pi/4,[0,1,2],3)\n",
    "qc.mcx([0,1,2],3)\n",
    "qc.swap(2,3)"
   ]
  },
  {
   "cell_type": "markdown",
   "id": "89d712db",
   "metadata": {},
   "source": [
    "Figure 1-2 - Page 18"
   ]
  },
  {
   "cell_type": "code",
   "execution_count": 6,
   "id": "2dc0adcd",
   "metadata": {
    "ExecuteTime": {
     "end_time": "2022-05-05T13:30:46.826122Z",
     "start_time": "2022-05-05T13:30:46.374697Z"
    }
   },
   "outputs": [
    {
     "data": {
      "image/png": "[encoded data removed]",
      "text/plain": [
       "<Figure size 1049.8x264.88 with 1 Axes>"
      ]
     },
     "execution_count": 6,
     "metadata": {},
     "output_type": "execute_result"
    }
   ],
   "source": [
    "qc = QuantumCircuit(4)\n",
    "qc.ccx(0,1,2)\n",
    "qc.ch(0,1)\n",
    "qc.cp(math.pi/4,0,1)\n",
    "qc.crx(math.pi/2,2,3)\n",
    "qc.crz(math.pi/4,0,1)\n",
    "qc.cswap(0,2,3)\n",
    "qc.csx(0,1)\n",
    "qc.cu(math.pi/2,0,math.pi,0,0,1)\n",
    "qc.cx(2,3)\n",
    "qc.cy(2,3)\n",
    "qc.cz(1,2)\n",
    "qc.dcx(2,3)\n",
    "qc.iswap(0,1)\n",
    "qc.mcp(math.pi/4,[0,1,2],3)\n",
    "qc.mcx([0,1,2],3)\n",
    "qc.swap(2,3)\n",
    "qc.draw('mpl')"
   ]
  },
  {
   "cell_type": "markdown",
   "id": "e55e951b",
   "metadata": {
    "ExecuteTime": {
     "end_time": "2022-05-05T13:32:18.999640Z",
     "start_time": "2022-05-05T13:32:18.993693Z"
    }
   },
   "source": [
    "Figure 1-3 - Page 19"
   ]
  },
  {
   "cell_type": "code",
   "execution_count": 9,
   "id": "7453793d",
   "metadata": {
    "ExecuteTime": {
     "end_time": "2022-05-05T13:32:42.368407Z",
     "start_time": "2022-05-05T13:32:42.142646Z"
    }
   },
   "outputs": [
    {
     "data": {
      "image/png": "[encoded data removed]",
      "text/plain": [
       "<Figure size 267.197x204.68 with 1 Axes>"
      ]
     },
     "execution_count": 9,
     "metadata": {},
     "output_type": "execute_result"
    }
   ],
   "source": [
    "qc = QuantumCircuit(3)\n",
    "qc.h(0)\n",
    "qc.cx(0, 1)\n",
    "qc.cx(0, 2)\n",
    "qc.draw('mpl')"
   ]
  },
  {
   "cell_type": "markdown",
   "id": "6d14063c",
   "metadata": {
    "ExecuteTime": {
     "end_time": "2022-05-05T13:33:17.932308Z",
     "start_time": "2022-05-05T13:33:17.924996Z"
    }
   },
   "source": [
    "Figure 1-4 - Page 20"
   ]
  },
  {
   "cell_type": "code",
   "execution_count": 12,
   "id": "5723e0b3",
   "metadata": {
    "ExecuteTime": {
     "end_time": "2022-05-05T13:33:49.940954Z",
     "start_time": "2022-05-05T13:33:49.791202Z"
    }
   },
   "outputs": [
    {
     "data": {
      "image/png": "[encoded data removed]",
      "text/plain": [
       "<Figure size 387.452x144.48 with 1 Axes>"
      ]
     },
     "execution_count": 12,
     "metadata": {},
     "output_type": "execute_result"
    }
   ],
   "source": [
    "qc = QuantumCircuit(2)\n",
    "qc.h([0,1])\n",
    "qc.barrier()\n",
    "qc.x(0)\n",
    "qc.x(0)\n",
    "qc.s(1)\n",
    "qc.barrier([1])\n",
    "qc.s(1)\n",
    "qc.draw('mpl')"
   ]
  },
  {
   "cell_type": "markdown",
   "id": "bc9112bd",
   "metadata": {},
   "source": [
    "Figure 1-5 - Page 21"
   ]
  },
  {
   "cell_type": "code",
   "execution_count": 15,
   "id": "98e3197c",
   "metadata": {
    "ExecuteTime": {
     "end_time": "2022-05-05T13:37:11.362970Z",
     "start_time": "2022-05-05T13:37:11.176004Z"
    }
   },
   "outputs": [
    {
     "data": {
      "image/png": "[encoded data removed]",
      "text/plain": [
       "<Figure size 327.397x264.88 with 1 Axes>"
      ]
     },
     "execution_count": 15,
     "metadata": {},
     "output_type": "execute_result"
    }
   ],
   "source": [
    "qc = QuantumCircuit(3, 3)\n",
    "qc.h([0,1,2])\n",
    "qc.measure([0,1,2], [0,1,2])\n",
    "qc.draw('mpl')"
   ]
  },
  {
   "cell_type": "markdown",
   "id": "e1875b50",
   "metadata": {
    "ExecuteTime": {
     "end_time": "2022-05-05T13:37:50.394394Z",
     "start_time": "2022-05-05T13:37:50.388363Z"
    }
   },
   "source": [
    "Figure 1-6 - Page 22"
   ]
  },
  {
   "cell_type": "code",
   "execution_count": 17,
   "id": "889650db",
   "metadata": {
    "ExecuteTime": {
     "end_time": "2022-05-05T13:38:10.216120Z",
     "start_time": "2022-05-05T13:38:10.030687Z"
    }
   },
   "outputs": [
    {
     "data": {
      "image/png": "[encoded data removed]",
      "text/plain": [
       "<Figure size 417.879x264.88 with 1 Axes>"
      ]
     },
     "execution_count": 17,
     "metadata": {},
     "output_type": "execute_result"
    }
   ],
   "source": [
    "qc = QuantumCircuit(3)\n",
    "qc.h([0,1,2])\n",
    "qc.measure_all()\n",
    "qc.draw('mpl')"
   ]
  },
  {
   "cell_type": "markdown",
   "id": "e4a07ea2",
   "metadata": {},
   "source": [
    "Table 1-3 - Page 22"
   ]
  },
  {
   "cell_type": "code",
   "execution_count": 18,
   "id": "7d920481",
   "metadata": {
    "ExecuteTime": {
     "end_time": "2022-05-05T13:40:22.632663Z",
     "start_time": "2022-05-05T13:40:22.628458Z"
    }
   },
   "outputs": [
    {
     "data": {
      "text/plain": [
       "2"
      ]
     },
     "execution_count": 18,
     "metadata": {},
     "output_type": "execute_result"
    }
   ],
   "source": [
    "qc.depth()"
   ]
  },
  {
   "cell_type": "code",
   "execution_count": 19,
   "id": "a17fbef4",
   "metadata": {
    "ExecuteTime": {
     "end_time": "2022-05-05T13:40:48.943077Z",
     "start_time": "2022-05-05T13:40:48.934708Z"
    }
   },
   "outputs": [
    {
     "data": {
      "text/plain": [
       "6"
      ]
     },
     "execution_count": 19,
     "metadata": {},
     "output_type": "execute_result"
    }
   ],
   "source": [
    "qc.size()"
   ]
  },
  {
   "cell_type": "code",
   "execution_count": 20,
   "id": "9c422246",
   "metadata": {
    "ExecuteTime": {
     "end_time": "2022-05-05T13:40:55.152061Z",
     "start_time": "2022-05-05T13:40:55.147723Z"
    }
   },
   "outputs": [
    {
     "data": {
      "text/plain": [
       "6"
      ]
     },
     "execution_count": 20,
     "metadata": {},
     "output_type": "execute_result"
    }
   ],
   "source": [
    "qc.width()"
   ]
  },
  {
   "cell_type": "markdown",
   "id": "1d9bccec",
   "metadata": {
    "ExecuteTime": {
     "end_time": "2022-05-05T13:41:33.263074Z",
     "start_time": "2022-05-05T13:41:33.257205Z"
    }
   },
   "source": [
    "Table 1-4 - Page 23"
   ]
  },
  {
   "cell_type": "code",
   "execution_count": 22,
   "id": "7c345a5a",
   "metadata": {
    "ExecuteTime": {
     "end_time": "2022-05-05T13:42:09.269910Z",
     "start_time": "2022-05-05T13:42:09.261054Z"
    }
   },
   "outputs": [
    {
     "data": {
      "text/plain": [
       "[Clbit(ClassicalRegister(3, 'meas'), 0),\n",
       " Clbit(ClassicalRegister(3, 'meas'), 1),\n",
       " Clbit(ClassicalRegister(3, 'meas'), 2)]"
      ]
     },
     "execution_count": 22,
     "metadata": {},
     "output_type": "execute_result"
    }
   ],
   "source": [
    "qc.clbits"
   ]
  },
  {
   "cell_type": "code",
   "execution_count": 23,
   "id": "34249c44",
   "metadata": {
    "ExecuteTime": {
     "end_time": "2022-05-05T13:42:14.003590Z",
     "start_time": "2022-05-05T13:42:13.997609Z"
    }
   },
   "outputs": [
    {
     "data": {
      "text/plain": [
       "[(Instruction(name='h', num_qubits=1, num_clbits=0, params=[]), [Qubit(QuantumRegister(3, 'q'), 0)], []), (Instruction(name='h', num_qubits=1, num_clbits=0, params=[]), [Qubit(QuantumRegister(3, 'q'), 1)], []), (Instruction(name='h', num_qubits=1, num_clbits=0, params=[]), [Qubit(QuantumRegister(3, 'q'), 2)], []), (Instruction(name='barrier', num_qubits=3, num_clbits=0, params=[]), [Qubit(QuantumRegister(3, 'q'), 0), Qubit(QuantumRegister(3, 'q'), 1), Qubit(QuantumRegister(3, 'q'), 2)], []), (Instruction(name='measure', num_qubits=1, num_clbits=1, params=[]), [Qubit(QuantumRegister(3, 'q'), 0)], [Clbit(ClassicalRegister(3, 'meas'), 0)]), (Instruction(name='measure', num_qubits=1, num_clbits=1, params=[]), [Qubit(QuantumRegister(3, 'q'), 1)], [Clbit(ClassicalRegister(3, 'meas'), 1)]), (Instruction(name='measure', num_qubits=1, num_clbits=1, params=[]), [Qubit(QuantumRegister(3, 'q'), 2)], [Clbit(ClassicalRegister(3, 'meas'), 2)])]"
      ]
     },
     "execution_count": 23,
     "metadata": {},
     "output_type": "execute_result"
    }
   ],
   "source": [
    "qc.data"
   ]
  },
  {
   "cell_type": "code",
   "execution_count": 24,
   "id": "3361028c",
   "metadata": {
    "ExecuteTime": {
     "end_time": "2022-05-05T13:42:19.901933Z",
     "start_time": "2022-05-05T13:42:19.898449Z"
    }
   },
   "outputs": [
    {
     "data": {
      "text/plain": [
       "0"
      ]
     },
     "execution_count": 24,
     "metadata": {},
     "output_type": "execute_result"
    }
   ],
   "source": [
    "qc.global_phase"
   ]
  },
  {
   "cell_type": "code",
   "execution_count": 25,
   "id": "3437346f",
   "metadata": {
    "ExecuteTime": {
     "end_time": "2022-05-05T13:42:26.299050Z",
     "start_time": "2022-05-05T13:42:26.292512Z"
    }
   },
   "outputs": [
    {
     "data": {
      "text/plain": [
       "3"
      ]
     },
     "execution_count": 25,
     "metadata": {},
     "output_type": "execute_result"
    }
   ],
   "source": [
    "qc.num_clbits"
   ]
  },
  {
   "cell_type": "code",
   "execution_count": 26,
   "id": "8fe0537b",
   "metadata": {
    "ExecuteTime": {
     "end_time": "2022-05-05T13:42:32.799660Z",
     "start_time": "2022-05-05T13:42:32.795220Z"
    }
   },
   "outputs": [
    {
     "data": {
      "text/plain": [
       "3"
      ]
     },
     "execution_count": 26,
     "metadata": {},
     "output_type": "execute_result"
    }
   ],
   "source": [
    "qc.num_qubits"
   ]
  },
  {
   "cell_type": "code",
   "execution_count": 27,
   "id": "bd0c6520",
   "metadata": {
    "ExecuteTime": {
     "end_time": "2022-05-05T13:42:39.323977Z",
     "start_time": "2022-05-05T13:42:39.319624Z"
    }
   },
   "outputs": [
    {
     "data": {
      "text/plain": [
       "[Qubit(QuantumRegister(3, 'q'), 0),\n",
       " Qubit(QuantumRegister(3, 'q'), 1),\n",
       " Qubit(QuantumRegister(3, 'q'), 2)]"
      ]
     },
     "execution_count": 27,
     "metadata": {},
     "output_type": "execute_result"
    }
   ],
   "source": [
    "qc.qubits"
   ]
  },
  {
   "cell_type": "code",
   "execution_count": null,
   "id": "dbc8e33b",
   "metadata": {},
   "outputs": [],
   "source": []
  }
 ],
 "metadata": {
  "kernelspec": {
   "display_name": "Python 3 (ipykernel)",
   "language": "python",
   "name": "python3"
  },
  "language_info": {
   "codemirror_mode": {
    "name": "ipython",
    "version": 3
   },
   "file_extension": ".py",
   "mimetype": "text/x-python",
   "name": "python",
   "nbconvert_exporter": "python",
   "pygments_lexer": "ipython3",
   "version": "3.9.12"
  }
 },
 "nbformat": 4,
 "nbformat_minor": 5
}
