{
 "cells": [
  {
   "cell_type": "markdown",
   "id": "e9c34909",
   "metadata": {},
   "source": [
    "# Chapter 1: Quantum Circuits and Operations"
   ]
  },
  {
   "cell_type": "markdown",
   "id": "b0482103",
   "metadata": {
    "ExecuteTime": {
     "end_time": "2022-05-05T13:46:50.178490Z",
     "start_time": "2022-05-05T13:46:50.167932Z"
    }
   },
   "source": [
    "## Instructions and Gates"
   ]
  },
  {
   "cell_type": "markdown",
   "id": "263543ab",
   "metadata": {},
   "source": [
    "Page 39a:"
   ]
  },
  {
   "cell_type": "code",
   "execution_count": 1,
   "id": "065f884d",
   "metadata": {
    "ExecuteTime": {
     "end_time": "2022-05-05T13:16:29.175235Z",
     "start_time": "2022-05-05T13:16:28.556041Z"
    }
   },
   "outputs": [
    {
     "name": "stdout",
     "output_type": "stream",
     "text": [
      "2\n"
     ]
    }
   ],
   "source": [
    "from qiskit.circuit.library import CCXGate\n",
    "\n",
    "toffoli = CCXGate()\n",
    "print(toffoli.num_ctrl_qubits)"
   ]
  },
  {
   "cell_type": "markdown",
   "id": "0424f0ac",
   "metadata": {},
   "source": [
    "Figure 1-20 - Page 39b:"
   ]
  },
  {
   "cell_type": "code",
   "execution_count": 2,
   "id": "433bdbaf",
   "metadata": {
    "ExecuteTime": {
     "end_time": "2022-05-05T13:16:29.208150Z",
     "start_time": "2022-05-05T13:16:29.196718Z"
    }
   },
   "outputs": [
    {
     "data": {
      "image/png": "[encoded data removed]",
      "text/plain": [
       "<Figure size 267.197x204.68 with 1 Axes>"
      ]
     },
     "execution_count": 2,
     "metadata": {},
     "output_type": "execute_result"
    }
   ],
   "source": [
    "toffoli = CCXGate()\n",
    "toffoli.ctrl_state = 2\n",
    "\n",
    "toffoli.definition.draw()"
   ]
  },
  {
   "cell_type": "markdown",
   "id": "28f41daa",
   "metadata": {
    "ExecuteTime": {
     "end_time": "2022-05-05T12:50:30.128203Z",
     "start_time": "2022-05-05T12:50:30.121537Z"
    }
   },
   "source": [
    "Figure 1-21 - Page 40"
   ]
  },
  {
   "cell_type": "code",
   "execution_count": 3,
   "id": "ab415ef8",
   "metadata": {
    "ExecuteTime": {
     "end_time": "2022-05-05T13:16:30.722708Z",
     "start_time": "2022-05-05T13:16:29.211773Z"
    }
   },
   "outputs": [
    {
     "data": {
      "image/png": "[encoded data removed]",
      "text/plain": [
       "<Figure size 133.526x84.28 with 1 Axes>"
      ]
     },
     "execution_count": 3,
     "metadata": {},
     "output_type": "execute_result"
    }
   ],
   "source": [
    "from qiskit import QuantumCircuit\n",
    "import math\n",
    "\n",
    "p16_qc = QuantumCircuit(1)\n",
    "p16_qc.p(math.pi/16, 0)\n",
    "\n",
    "p16_gate = p16_qc.to_gate()\n",
    "\n",
    "p16_gate.definition.draw()"
   ]
  },
  {
   "cell_type": "markdown",
   "id": "458d6fc7",
   "metadata": {},
   "source": [
    "Figure 1-22 - Page 40-41"
   ]
  },
  {
   "cell_type": "code",
   "execution_count": 4,
   "id": "bc786dd4",
   "metadata": {
    "ExecuteTime": {
     "end_time": "2022-05-05T13:24:50.962582Z",
     "start_time": "2022-05-05T13:24:50.926733Z"
    }
   },
   "outputs": [
    {
     "data": {
      "image/png": "[encoded data removed]",
      "text/plain": [
       "<Figure size 266.272x204.68 with 1 Axes>"
      ]
     },
     "execution_count": 4,
     "metadata": {},
     "output_type": "execute_result"
    }
   ],
   "source": [
    "ctrl_p16 = p16_gate.control(2)\n",
    "\n",
    "ctrl_p16.definition.draw()"
   ]
  },
  {
   "cell_type": "markdown",
   "id": "89d712db",
   "metadata": {},
   "source": [
    "Figure 1-23 - Page 41"
   ]
  },
  {
   "cell_type": "code",
   "execution_count": 5,
   "id": "2dc0adcd",
   "metadata": {
    "ExecuteTime": {
     "end_time": "2022-05-05T13:30:46.826122Z",
     "start_time": "2022-05-05T13:30:46.374697Z"
    }
   },
   "outputs": [
    {
     "data": {
      "image/png": "[encoded data removed]",
      "text/plain": [
       "<Figure size 267.197x264.88 with 1 Axes>"
      ]
     },
     "execution_count": 5,
     "metadata": {},
     "output_type": "execute_result"
    }
   ],
   "source": [
    "qc = QuantumCircuit(4)\n",
    "qc.h([0,1,2,3])\n",
    "qc.append(ctrl_p16,[0,1,3])\n",
    "\n",
    "qc.decompose().draw()"
   ]
  }
 ],
 "metadata": {
  "kernelspec": {
   "display_name": "Qiskit v0.35.0 (ipykernel)",
   "language": "python",
   "name": "python3"
  },
  "language_info": {
   "codemirror_mode": {
    "name": "ipython",
    "version": 3
   },
   "file_extension": ".py",
   "mimetype": "text/x-python",
   "name": "python",
   "nbconvert_exporter": "python",
   "pygments_lexer": "ipython3",
   "version": "3.8.13"
  },
  "widgets": {
   "application/vnd.jupyter.widget-state+json": {
    "state": {},
    "version_major": 2,
    "version_minor": 0
   }
  }
 },
 "nbformat": 4,
 "nbformat_minor": 5
}
