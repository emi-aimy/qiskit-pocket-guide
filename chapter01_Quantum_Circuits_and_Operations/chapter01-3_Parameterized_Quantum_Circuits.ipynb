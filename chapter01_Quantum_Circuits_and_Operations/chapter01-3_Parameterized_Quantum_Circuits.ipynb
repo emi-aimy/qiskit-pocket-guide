{
 "cells": [
  {
   "cell_type": "markdown",
   "id": "e9c34909",
   "metadata": {},
   "source": [
    "# Chapter 1: Quantum Circuits and Operations"
   ]
  },
  {
   "cell_type": "markdown",
   "id": "b0482103",
   "metadata": {
    "ExecuteTime": {
     "end_time": "2022-05-05T13:46:50.178490Z",
     "start_time": "2022-05-05T13:46:50.167932Z"
    }
   },
   "source": [
    "## Parameterized Quantum Circuits"
   ]
  },
  {
   "cell_type": "markdown",
   "id": "0424f0ac",
   "metadata": {},
   "source": [
    "Figure 1-24 - Page 42-43:"
   ]
  },
  {
   "cell_type": "code",
   "execution_count": 1,
   "id": "433bdbaf",
   "metadata": {
    "ExecuteTime": {
     "end_time": "2022-05-05T13:16:29.208150Z",
     "start_time": "2022-05-05T13:16:29.196718Z"
    }
   },
   "outputs": [
    {
     "data": {
      "image/png": "[encoded data removed]",
      "text/plain": [
       "<Figure size 206.997x204.68 with 1 Axes>"
      ]
     },
     "execution_count": 1,
     "metadata": {},
     "output_type": "execute_result"
    }
   ],
   "source": [
    "from qiskit.circuit import QuantumCircuit,\\\n",
    "                           ParameterVector\n",
    "\n",
    "theta = ParameterVector('θ', 3)\n",
    "\n",
    "qc = QuantumCircuit(3)\n",
    "qc.h([0,1,2])\n",
    "qc.p(theta[0],0)\n",
    "qc.p(theta[1],1)\n",
    "qc.p(theta[2],2)\n",
    "\n",
    "qc.draw()"
   ]
  },
  {
   "cell_type": "markdown",
   "id": "28f41daa",
   "metadata": {
    "ExecuteTime": {
     "end_time": "2022-05-05T12:50:30.128203Z",
     "start_time": "2022-05-05T12:50:30.121537Z"
    }
   },
   "source": [
    "Figure 1-25 - Page 43:"
   ]
  },
  {
   "cell_type": "code",
   "execution_count": 2,
   "id": "ab415ef8",
   "metadata": {
    "ExecuteTime": {
     "end_time": "2022-05-05T13:16:30.722708Z",
     "start_time": "2022-05-05T13:16:29.211773Z"
    }
   },
   "outputs": [
    {
     "data": {
      "image/png": "[encoded data removed]",
      "text/plain": [
       "<Figure size 206.997x204.68 with 1 Axes>"
      ]
     },
     "execution_count": 2,
     "metadata": {},
     "output_type": "execute_result"
    }
   ],
   "source": [
    "import math\n",
    "\n",
    "b_qc = qc.bind_parameters({theta: [math.pi/8,\n",
    "                                    math.pi/4,\n",
    "                                    math.pi/2]})\n",
    "\n",
    "b_qc.draw()"
   ]
  }
 ],
 "metadata": {
  "kernelspec": {
   "display_name": "Qiskit v0.35.0 (ipykernel)",
   "language": "python",
   "name": "python3"
  },
  "language_info": {
   "codemirror_mode": {
    "name": "ipython",
    "version": 3
   },
   "file_extension": ".py",
   "mimetype": "text/x-python",
   "name": "python",
   "nbconvert_exporter": "python",
   "pygments_lexer": "ipython3",
   "version": "3.8.13"
  },
  "widgets": {
   "application/vnd.jupyter.widget-state+json": {
    "state": {},
    "version_major": 2,
    "version_minor": 0
   }
  }
 },
 "nbformat": 4,
 "nbformat_minor": 5
}
