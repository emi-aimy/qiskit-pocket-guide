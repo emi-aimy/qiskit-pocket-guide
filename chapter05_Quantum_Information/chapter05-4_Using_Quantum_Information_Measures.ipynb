{
 "cells": [
  {
   "cell_type": "markdown",
   "id": "e9c34909",
   "metadata": {},
   "source": [
    "# Chapter 5: Quantum Information"
   ]
  },
  {
   "cell_type": "markdown",
   "id": "b0482103",
   "metadata": {
    "ExecuteTime": {
     "end_time": "2022-05-05T13:46:50.178490Z",
     "start_time": "2022-05-05T13:46:50.167932Z"
    }
   },
   "source": [
    "## Using Quantum Information Measures"
   ]
  },
  {
   "cell_type": "markdown",
   "id": "263543ab",
   "metadata": {},
   "source": [
    "Page 115-116:"
   ]
  },
  {
   "cell_type": "code",
   "execution_count": 3,
   "id": "065f884d",
   "metadata": {
    "ExecuteTime": {
     "end_time": "2022-05-05T13:16:29.175235Z",
     "start_time": "2022-05-05T13:16:28.556041Z"
    }
   },
   "outputs": [
    {
     "name": "stdout",
     "output_type": "stream",
     "text": [
      "0.8535533905932733\n"
     ]
    }
   ],
   "source": [
    "from qiskit.quantum_info import Statevector\n",
    "from qiskit.quantum_info import Statevector, \\\n",
    "                        Operator, state_fidelity\n",
    "\n",
    "sv_a = Statevector.from_label('+')\n",
    "sv_b = sv_a.evolve(Operator.from_label('T'))\n",
    "print(state_fidelity(sv_a, sv_b))"
   ]
  },
  {
   "cell_type": "code",
   "execution_count": null,
   "id": "0abb2d09-de7c-4d84-9960-169fd877a7f9",
   "metadata": {},
   "outputs": [],
   "source": []
  }
 ],
 "metadata": {
  "kernelspec": {
   "display_name": "Qiskit v0.35.0 (ipykernel)",
   "language": "python",
   "name": "python3"
  },
  "language_info": {
   "codemirror_mode": {
    "name": "ipython",
    "version": 3
   },
   "file_extension": ".py",
   "mimetype": "text/x-python",
   "name": "python",
   "nbconvert_exporter": "python",
   "pygments_lexer": "ipython3",
   "version": "3.8.13"
  },
  "widgets": {
   "application/vnd.jupyter.widget-state+json": {
    "state": {},
    "version_major": 2,
    "version_minor": 0
   }
  }
 },
 "nbformat": 4,
 "nbformat_minor": 5
}
