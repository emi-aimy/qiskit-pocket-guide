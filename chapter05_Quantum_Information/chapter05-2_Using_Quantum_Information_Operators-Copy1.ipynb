{
 "cells": [
  {
   "cell_type": "markdown",
   "id": "e9c34909",
   "metadata": {},
   "source": [
    "# Chapter 5: Quantum Information"
   ]
  },
  {
   "cell_type": "markdown",
   "id": "b0482103",
   "metadata": {
    "ExecuteTime": {
     "end_time": "2022-05-05T13:46:50.178490Z",
     "start_time": "2022-05-05T13:46:50.167932Z"
    }
   },
   "source": [
    "## Using Quantum Information Operators"
   ]
  },
  {
   "cell_type": "markdown",
   "id": "263543ab",
   "metadata": {},
   "source": [
    "Page 107-108:"
   ]
  },
  {
   "cell_type": "code",
   "execution_count": 1,
   "id": "065f884d",
   "metadata": {
    "ExecuteTime": {
     "end_time": "2022-05-05T13:16:29.175235Z",
     "start_time": "2022-05-05T13:16:28.556041Z"
    }
   },
   "outputs": [
    {
     "name": "stdout",
     "output_type": "stream",
     "text": [
      "[[0.+0.j 0.+0.j 1.+0.j 0.+0.j]\n",
      " [0.+0.j 0.+0.j 0.+0.j 1.+0.j]\n",
      " [1.+0.j 0.+0.j 0.+0.j 0.+0.j]\n",
      " [0.+0.j 1.+0.j 0.+0.j 0.+0.j]]\n"
     ]
    }
   ],
   "source": [
    "from qiskit import QuantumCircuit\n",
    "from qiskit.quantum_info import Operator\n",
    " \n",
    "qc = QuantumCircuit(2)\n",
    "qc.id(0)\n",
    "qc.x(1)\n",
    "op_XI = Operator(qc)\n",
    "print(op_XI.data)"
   ]
  },
  {
   "cell_type": "markdown",
   "id": "eae8856b-2034-4dd4-80fc-f8022f92a284",
   "metadata": {},
   "source": [
    "Page 108:"
   ]
  },
  {
   "cell_type": "code",
   "execution_count": 2,
   "id": "5a784c31-d094-4b82-b6ed-c94d45e656a6",
   "metadata": {},
   "outputs": [
    {
     "name": "stdout",
     "output_type": "stream",
     "text": [
      "[[0.+0.j 0.+0.j 1.+0.j 0.+0.j]\n",
      " [0.+0.j 0.+0.j 0.+0.j 1.+0.j]\n",
      " [1.+0.j 0.+0.j 0.+0.j 0.+0.j]\n",
      " [0.+0.j 1.+0.j 0.+0.j 0.+0.j]]\n"
     ]
    }
   ],
   "source": [
    "from qiskit.quantum_info import Operator\n",
    "\n",
    "op_XI = Operator([[0, 0, 1, 0],\n",
    "                  [0, 0, 0, 1],\n",
    "                  [1, 0, 0, 0],\n",
    "                  [0, 1, 0, 0]])\n",
    "print(op_XI.data)"
   ]
  },
  {
   "cell_type": "markdown",
   "id": "1d4c9e82-9f28-4ba8-9167-a2d46bc6ba3a",
   "metadata": {},
   "source": [
    "Page 108-109:"
   ]
  },
  {
   "cell_type": "code",
   "execution_count": 3,
   "id": "88d0c709-b232-480c-b059-dabc151e4cdf",
   "metadata": {},
   "outputs": [
    {
     "name": "stdout",
     "output_type": "stream",
     "text": [
      "[[0.+0.j 0.+0.j 1.+0.j 0.+0.j]\n",
      " [0.+0.j 0.+0.j 0.+0.j 1.+0.j]\n",
      " [1.+0.j 0.+0.j 0.+0.j 0.+0.j]\n",
      " [0.+0.j 1.+0.j 0.+0.j 0.+0.j]]\n"
     ]
    }
   ],
   "source": [
    "from qiskit.quantum_info import Operator, Pauli\n",
    " \n",
    "op_XI = Operator(Pauli('XI'))\n",
    "print(op_XI.data)"
   ]
  },
  {
   "cell_type": "markdown",
   "id": "3359c717-bef3-4861-8bf4-be7c5c9c31b2",
   "metadata": {},
   "source": [
    "Page 109:"
   ]
  },
  {
   "cell_type": "code",
   "execution_count": 4,
   "id": "a1df99e4-31cb-494f-ba3b-40e6ebd99562",
   "metadata": {},
   "outputs": [
    {
     "name": "stdout",
     "output_type": "stream",
     "text": [
      "[[1.        +0.j         0.        +0.j         0.        +0.j\n",
      "  0.        +0.j        ]\n",
      " [0.        +0.j         1.        +0.j         0.        +0.j\n",
      "  0.        +0.j        ]\n",
      " [0.        +0.j         0.        +0.j         1.        +0.j\n",
      "  0.        +0.j        ]\n",
      " [0.        +0.j         0.        +0.j         0.        +0.j\n",
      "  0.70710678+0.70710678j]]\n"
     ]
    }
   ],
   "source": [
    "from qiskit.quantum_info import Operator\n",
    "from qiskit.circuit.library.standard_gates \\\n",
    "                            import CPhaseGate\n",
    "import numpy as np\n",
    "\n",
    "op_CP = Operator(CPhaseGate(np.pi / 4))\n",
    "print(op_CP.data)"
   ]
  },
  {
   "cell_type": "markdown",
   "id": "488af704-c50c-4a52-8efe-704e629a2df0",
   "metadata": {},
   "source": [
    "Page 111a:"
   ]
  },
  {
   "cell_type": "code",
   "execution_count": 5,
   "id": "b065e3b7-a57f-4c16-a87b-5d103480f9ae",
   "metadata": {},
   "outputs": [
    {
     "name": "stdout",
     "output_type": "stream",
     "text": [
      "[[ 0.+0.j  0.+0.j -1.+0.j  0.+0.j]\n",
      " [ 0.+0.j  0.+0.j  0.+0.j  1.-0.j]\n",
      " [-1.+0.j  0.+0.j  0.+0.j  0.+0.j]\n",
      " [ 0.+0.j  1.-0.j  0.+0.j  0.+0.j]]\n"
     ]
    }
   ],
   "source": [
    "from qiskit.quantum_info import Pauli\n",
    "\n",
    "pauli_piXZ = Pauli('-XZ')\n",
    "print(pauli_piXZ.to_matrix())"
   ]
  },
  {
   "cell_type": "markdown",
   "id": "fc2aa10f-9f4c-4501-b427-450db0f8b515",
   "metadata": {},
   "source": [
    "Page 111b:"
   ]
  },
  {
   "cell_type": "code",
   "execution_count": 6,
   "id": "8a4e7818-a69c-4c9d-8961-e9d172701aa1",
   "metadata": {},
   "outputs": [
    {
     "name": "stdout",
     "output_type": "stream",
     "text": [
      "True\n"
     ]
    }
   ],
   "source": [
    "from qiskit import QuantumCircuit\n",
    "from qiskit.quantum_info import Pauli\n",
    "\n",
    "qc = QuantumCircuit(2)\n",
    "qc.z(0)\n",
    "qc.x(1)\n",
    "\n",
    "pauli_XZ = Pauli(qc)\n",
    "print(pauli_XZ.equiv(Pauli('-XZ')))"
   ]
  }
 ],
 "metadata": {
  "kernelspec": {
   "display_name": "Qiskit v0.35.0 (ipykernel)",
   "language": "python",
   "name": "python3"
  },
  "language_info": {
   "codemirror_mode": {
    "name": "ipython",
    "version": 3
   },
   "file_extension": ".py",
   "mimetype": "text/x-python",
   "name": "python",
   "nbconvert_exporter": "python",
   "pygments_lexer": "ipython3",
   "version": "3.8.13"
  },
  "widgets": {
   "application/vnd.jupyter.widget-state+json": {
    "state": {},
    "version_major": 2,
    "version_minor": 0
   }
  }
 },
 "nbformat": 4,
 "nbformat_minor": 5
}
